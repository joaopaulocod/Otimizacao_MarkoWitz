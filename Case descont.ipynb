{
 "cells": [
  {
   "cell_type": "markdown",
   "id": "25c8368f",
   "metadata": {},
   "source": [
    "# Importação das libs"
   ]
  },
  {
   "cell_type": "code",
   "execution_count": 1,
   "id": "c9b13c5d",
   "metadata": {
    "scrolled": true
   },
   "outputs": [],
   "source": [
    "#!pip3 install investpy\n",
    "#https://br.advfn.com/indice/ibovespa"
   ]
  },
  {
   "cell_type": "code",
   "execution_count": 2,
   "id": "c4bace71",
   "metadata": {},
   "outputs": [],
   "source": [
    "# Libs necessarias\n",
    "\n",
    "\n",
    "# Libs para análise de dados\n",
    "import pandas as pd\n",
    "import pandas_datareader.data as web\n",
    "import numpy as np\n",
    "\n",
    "# Libs para visualização de dados\n",
    "import matplotlib.pyplot as plt\n",
    "import plotly.express as px\n",
    "\n",
    "# Lib para manipulação de dados\n",
    "from datetime import datetime\n",
    "\n",
    "# APIs\n",
    "import yfinance as yf\n",
    "yf.pdr_override()\n",
    "import investpy as inv\n",
    "\n",
    "# Lib para avisos\n",
    "import warnings\n",
    "warnings.filterwarnings('ignore')"
   ]
  },
  {
   "cell_type": "markdown",
   "id": "1fe7a5e5",
   "metadata": {},
   "source": [
    "# 1. Capturando os tickers das ações do Brasil"
   ]
  },
  {
   "cell_type": "code",
   "execution_count": 3,
   "id": "30430a66",
   "metadata": {},
   "outputs": [],
   "source": [
    "df_br = inv.stocks.get_stocks(country = 'brazil')"
   ]
  },
  {
   "cell_type": "code",
   "execution_count": 4,
   "id": "042c00db",
   "metadata": {},
   "outputs": [
    {
     "data": {
      "text/html": [
       "<div>\n",
       "<style scoped>\n",
       "    .dataframe tbody tr th:only-of-type {\n",
       "        vertical-align: middle;\n",
       "    }\n",
       "\n",
       "    .dataframe tbody tr th {\n",
       "        vertical-align: top;\n",
       "    }\n",
       "\n",
       "    .dataframe thead th {\n",
       "        text-align: right;\n",
       "    }\n",
       "</style>\n",
       "<table border=\"1\" class=\"dataframe\">\n",
       "  <thead>\n",
       "    <tr style=\"text-align: right;\">\n",
       "      <th></th>\n",
       "      <th>country</th>\n",
       "      <th>name</th>\n",
       "      <th>full_name</th>\n",
       "      <th>isin</th>\n",
       "      <th>currency</th>\n",
       "      <th>symbol</th>\n",
       "    </tr>\n",
       "  </thead>\n",
       "  <tbody>\n",
       "    <tr>\n",
       "      <th>0</th>\n",
       "      <td>brazil</td>\n",
       "      <td>ABC BRASIL PN</td>\n",
       "      <td>Banco ABC Brasil SA</td>\n",
       "      <td>BRABCBACNPR4</td>\n",
       "      <td>BRL</td>\n",
       "      <td>ABCB4</td>\n",
       "    </tr>\n",
       "    <tr>\n",
       "      <th>1</th>\n",
       "      <td>brazil</td>\n",
       "      <td>BRASILAGRO ON</td>\n",
       "      <td>BrasilAgro - Co ON NM</td>\n",
       "      <td>BRAGROACNOR7</td>\n",
       "      <td>BRL</td>\n",
       "      <td>AGRO3</td>\n",
       "    </tr>\n",
       "    <tr>\n",
       "      <th>2</th>\n",
       "      <td>brazil</td>\n",
       "      <td>RUMO ON NM</td>\n",
       "      <td>RUMO Logistica Operadora Multimodal SA</td>\n",
       "      <td>BRRAILACNOR9</td>\n",
       "      <td>BRL</td>\n",
       "      <td>RAIL3</td>\n",
       "    </tr>\n",
       "    <tr>\n",
       "      <th>3</th>\n",
       "      <td>brazil</td>\n",
       "      <td>ALPARGATAS ON</td>\n",
       "      <td>Alpargatas SA</td>\n",
       "      <td>BRALPAACNOR0</td>\n",
       "      <td>BRL</td>\n",
       "      <td>ALPA3</td>\n",
       "    </tr>\n",
       "    <tr>\n",
       "      <th>4</th>\n",
       "      <td>brazil</td>\n",
       "      <td>ALPARGATAS PN</td>\n",
       "      <td>Alpargatas SA</td>\n",
       "      <td>BRALPAACNPR7</td>\n",
       "      <td>BRL</td>\n",
       "      <td>ALPA4</td>\n",
       "    </tr>\n",
       "  </tbody>\n",
       "</table>\n",
       "</div>"
      ],
      "text/plain": [
       "  country           name                               full_name  \\\n",
       "0  brazil  ABC BRASIL PN                     Banco ABC Brasil SA   \n",
       "1  brazil  BRASILAGRO ON                   BrasilAgro - Co ON NM   \n",
       "2  brazil     RUMO ON NM  RUMO Logistica Operadora Multimodal SA   \n",
       "3  brazil  ALPARGATAS ON                           Alpargatas SA   \n",
       "4  brazil  ALPARGATAS PN                           Alpargatas SA   \n",
       "\n",
       "           isin currency symbol  \n",
       "0  BRABCBACNPR4      BRL  ABCB4  \n",
       "1  BRAGROACNOR7      BRL  AGRO3  \n",
       "2  BRRAILACNOR9      BRL  RAIL3  \n",
       "3  BRALPAACNOR0      BRL  ALPA3  \n",
       "4  BRALPAACNPR7      BRL  ALPA4  "
      ]
     },
     "execution_count": 4,
     "metadata": {},
     "output_type": "execute_result"
    }
   ],
   "source": [
    "df_br.head()"
   ]
  },
  {
   "cell_type": "markdown",
   "id": "c30bf276",
   "metadata": {},
   "source": [
    "**Criando uma coluna de tickers no padrão do yahoo finance**"
   ]
  },
  {
   "cell_type": "code",
   "execution_count": 5,
   "id": "5079daba",
   "metadata": {},
   "outputs": [],
   "source": [
    "tickers = df_br['symbol'] + '.SA'"
   ]
  },
  {
   "cell_type": "markdown",
   "id": "d878be02",
   "metadata": {},
   "source": [
    "### Selecionando 20 tickers"
   ]
  },
  {
   "cell_type": "code",
   "execution_count": 6,
   "id": "767e191f",
   "metadata": {},
   "outputs": [
    {
     "data": {
      "text/plain": [
       "20"
      ]
     },
     "execution_count": 6,
     "metadata": {},
     "output_type": "execute_result"
    }
   ],
   "source": [
    "tickers20 = tickers[:20]\n",
    "len(tickers20)"
   ]
  },
  {
   "cell_type": "markdown",
   "id": "1494cabe",
   "metadata": {},
   "source": [
    "# 2. Capturando os dados das ações"
   ]
  },
  {
   "cell_type": "markdown",
   "id": "ee1103e7",
   "metadata": {},
   "source": [
    "**Escolhendo o período**"
   ]
  },
  {
   "cell_type": "code",
   "execution_count": 7,
   "id": "0ca5b33e",
   "metadata": {},
   "outputs": [],
   "source": [
    "period = '2y'"
   ]
  },
  {
   "cell_type": "markdown",
   "id": "56f09c55",
   "metadata": {},
   "source": [
    "**Definindo a função de captura das cotações**"
   ]
  },
  {
   "cell_type": "code",
   "execution_count": 8,
   "id": "4c05692e",
   "metadata": {},
   "outputs": [],
   "source": [
    "def get_stock(name, interval):\n",
    "    \"\"\"\n",
    "    Essa função recebe o código da ação e o intervalo de tempo de interesse para retornar\n",
    "    um data frame de séries temporais com as cotações.\n",
    "    \"\"\"\n",
    "    stock = web.get_data_yahoo( name, period = interval )\n",
    "    stock['Return'] = stock['Adj Close'].pct_change()\n",
    "    stock = stock.dropna()\n",
    "    return stock"
   ]
  },
  {
   "cell_type": "markdown",
   "id": "44cb8c0f",
   "metadata": {},
   "source": [
    "**Criando um dicionários com as cotações de todos os ativos**"
   ]
  },
  {
   "cell_type": "code",
   "execution_count": 9,
   "id": "b78b44fb",
   "metadata": {},
   "outputs": [
    {
     "name": "stdout",
     "output_type": "stream",
     "text": [
      "[*********************100%***********************]  1 of 1 completed\n",
      "[*********************100%***********************]  1 of 1 completed\n",
      "[*********************100%***********************]  1 of 1 completed\n",
      "[*********************100%***********************]  1 of 1 completed\n",
      "[*********************100%***********************]  1 of 1 completed\n",
      "[*********************100%***********************]  1 of 1 completed\n",
      "[*********************100%***********************]  1 of 1 completed\n",
      "[*********************100%***********************]  1 of 1 completed\n",
      "[*********************100%***********************]  1 of 1 completed\n",
      "[*********************100%***********************]  1 of 1 completed\n",
      "[*********************100%***********************]  1 of 1 completed\n",
      "[*********************100%***********************]  1 of 1 completed\n",
      "[*********************100%***********************]  1 of 1 completed\n",
      "[*********************100%***********************]  1 of 1 completed\n",
      "\n",
      "1 Failed download:\n",
      "- BBRK3.SA: No data found, symbol may be delisted\n",
      "[*********************100%***********************]  1 of 1 completed\n",
      "[*********************100%***********************]  1 of 1 completed\n",
      "[*********************100%***********************]  1 of 1 completed\n",
      "[*********************100%***********************]  1 of 1 completed\n",
      "[*********************100%***********************]  1 of 1 completed\n",
      "[*********************100%***********************]  1 of 1 completed\n"
     ]
    }
   ],
   "source": [
    "stockDict = {}\n",
    "\n",
    "for ticker in tickers20:\n",
    "    try:\n",
    "        stockDict[ticker] = get_stock(ticker, period)\n",
    "    except:\n",
    "        print('Não foi possível')\n"
   ]
  },
  {
   "cell_type": "markdown",
   "id": "9513db05",
   "metadata": {},
   "source": [
    "**Visualizando o sumário dos ativos**"
   ]
  },
  {
   "cell_type": "code",
   "execution_count": 10,
   "id": "6fa4c6f7",
   "metadata": {},
   "outputs": [
    {
     "data": {
      "text/plain": [
       "{0: 'ABCB4.SA',\n",
       " 1: 'AGRO3.SA',\n",
       " 2: 'RAIL3.SA',\n",
       " 3: 'ALPA3.SA',\n",
       " 4: 'ALPA4.SA',\n",
       " 5: 'ALSO3.SA',\n",
       " 6: 'AMAR3.SA',\n",
       " 7: 'ABEV3.SA',\n",
       " 8: 'ADHM3.SA',\n",
       " 9: 'ARZZ3.SA',\n",
       " 10: 'BBAS3.SA',\n",
       " 11: 'BBDC3.SA',\n",
       " 12: 'BBDC4.SA',\n",
       " 13: 'BBRK3.SA',\n",
       " 14: 'BEEF3.SA',\n",
       " 15: 'BPHA3.SA',\n",
       " 16: 'BPAN4.SA',\n",
       " 17: 'BRAP3.SA',\n",
       " 18: 'BRAP4.SA',\n",
       " 19: 'BRFS3.SA'}"
      ]
     },
     "execution_count": 10,
     "metadata": {},
     "output_type": "execute_result"
    }
   ],
   "source": [
    "summary = dict(enumerate(stockDict.keys()))\n",
    "summary"
   ]
  },
  {
   "cell_type": "markdown",
   "id": "f9787ed3",
   "metadata": {},
   "source": [
    "# 3. Calculando os descontos"
   ]
  },
  {
   "cell_type": "markdown",
   "id": "455052f1",
   "metadata": {},
   "source": [
    "O objetivo é encontrar os descontos dos ativos (diferença do preço de abertura para o preço atual). Dessa forma, podemos visualizar quais ativos possuem os menores riscos e os maiores descontos, assim o analista consegue decidir quais desses ativos ele irá realizar uma análise mais aprofunda."
   ]
  },
  {
   "cell_type": "markdown",
   "id": "0ace9e80",
   "metadata": {},
   "source": [
    "**Função calculo do desconto**"
   ]
  },
  {
   "cell_type": "code",
   "execution_count": 11,
   "id": "e8ab659f",
   "metadata": {},
   "outputs": [],
   "source": [
    "def func_descont(name):\n",
    "    \"\"\"\n",
    "    Essa função recebe o código da ação e retorna o desconto, risco e o último preço.\n",
    "    \"\"\"\n",
    "    stock = stockDict[name]\n",
    "    quantile75 = np.quantile(stock['Close'], .75)\n",
    "    last_price = stock['Close'][-1]\n",
    "    descont = (last_price - quantile75) / quantile75\n",
    "    risk = np.std(stock['Close'])\n",
    "    return descont, risk, last_price"
   ]
  },
  {
   "cell_type": "markdown",
   "id": "6235d446",
   "metadata": {},
   "source": [
    "**Coletando as informações sobre os ativos**"
   ]
  },
  {
   "cell_type": "code",
   "execution_count": 12,
   "id": "a4927188",
   "metadata": {},
   "outputs": [
    {
     "data": {
      "text/html": [
       "<div>\n",
       "<style scoped>\n",
       "    .dataframe tbody tr th:only-of-type {\n",
       "        vertical-align: middle;\n",
       "    }\n",
       "\n",
       "    .dataframe tbody tr th {\n",
       "        vertical-align: top;\n",
       "    }\n",
       "\n",
       "    .dataframe thead th {\n",
       "        text-align: right;\n",
       "    }\n",
       "</style>\n",
       "<table border=\"1\" class=\"dataframe\">\n",
       "  <thead>\n",
       "    <tr style=\"text-align: right;\">\n",
       "      <th></th>\n",
       "      <th>Descont</th>\n",
       "      <th>Risk</th>\n",
       "      <th>LastPrice</th>\n",
       "    </tr>\n",
       "  </thead>\n",
       "  <tbody>\n",
       "    <tr>\n",
       "      <th>ABCB4.SA</th>\n",
       "      <td>0.007724</td>\n",
       "      <td>1.901196</td>\n",
       "      <td>17.940001</td>\n",
       "    </tr>\n",
       "    <tr>\n",
       "      <th>AGRO3.SA</th>\n",
       "      <td>-0.102655</td>\n",
       "      <td>3.242200</td>\n",
       "      <td>27.709999</td>\n",
       "    </tr>\n",
       "    <tr>\n",
       "      <th>RAIL3.SA</th>\n",
       "      <td>-0.108328</td>\n",
       "      <td>1.706771</td>\n",
       "      <td>17.799999</td>\n",
       "    </tr>\n",
       "    <tr>\n",
       "      <th>ALPA3.SA</th>\n",
       "      <td>-0.687344</td>\n",
       "      <td>11.762743</td>\n",
       "      <td>11.240000</td>\n",
       "    </tr>\n",
       "    <tr>\n",
       "      <th>ALPA4.SA</th>\n",
       "      <td>-0.709452</td>\n",
       "      <td>13.849071</td>\n",
       "      <td>12.450000</td>\n",
       "    </tr>\n",
       "  </tbody>\n",
       "</table>\n",
       "</div>"
      ],
      "text/plain": [
       "           Descont       Risk  LastPrice\n",
       "ABCB4.SA  0.007724   1.901196  17.940001\n",
       "AGRO3.SA -0.102655   3.242200  27.709999\n",
       "RAIL3.SA -0.108328   1.706771  17.799999\n",
       "ALPA3.SA -0.687344  11.762743  11.240000\n",
       "ALPA4.SA -0.709452  13.849071  12.450000"
      ]
     },
     "execution_count": 12,
     "metadata": {},
     "output_type": "execute_result"
    }
   ],
   "source": [
    "# Criando um data frame\n",
    "df = pd.DataFrame(columns = ['Descont', 'Risk', 'LastPrice'])\n",
    "\n",
    "# Looping para coletar o desconto, risco e o último preço\n",
    "for ticker in stockDict.keys():\n",
    "    if len(stockDict[ticker]) != 0:\n",
    "        descont, risk, last_price = func_descont(ticker)\n",
    "        df.loc[ticker] = [descont, risk, last_price]\n",
    "    \n",
    "df.head()"
   ]
  },
  {
   "cell_type": "code",
   "execution_count": 13,
   "id": "7fc4abc5",
   "metadata": {},
   "outputs": [
    {
     "data": {
      "text/html": [
       "<div>\n",
       "<style scoped>\n",
       "    .dataframe tbody tr th:only-of-type {\n",
       "        vertical-align: middle;\n",
       "    }\n",
       "\n",
       "    .dataframe tbody tr th {\n",
       "        vertical-align: top;\n",
       "    }\n",
       "\n",
       "    .dataframe thead th {\n",
       "        text-align: right;\n",
       "    }\n",
       "</style>\n",
       "<table border=\"1\" class=\"dataframe\">\n",
       "  <thead>\n",
       "    <tr style=\"text-align: right;\">\n",
       "      <th></th>\n",
       "      <th>Descont</th>\n",
       "      <th>Risk</th>\n",
       "      <th>LastPrice</th>\n",
       "    </tr>\n",
       "  </thead>\n",
       "  <tbody>\n",
       "    <tr>\n",
       "      <th>BBAS3.SA</th>\n",
       "      <td>0.120732</td>\n",
       "      <td>3.713049</td>\n",
       "      <td>39.799999</td>\n",
       "    </tr>\n",
       "    <tr>\n",
       "      <th>BEEF3.SA</th>\n",
       "      <td>0.011867</td>\n",
       "      <td>2.049024</td>\n",
       "      <td>13.430000</td>\n",
       "    </tr>\n",
       "    <tr>\n",
       "      <th>ABCB4.SA</th>\n",
       "      <td>0.007724</td>\n",
       "      <td>1.901196</td>\n",
       "      <td>17.940001</td>\n",
       "    </tr>\n",
       "    <tr>\n",
       "      <th>ADHM3.SA</th>\n",
       "      <td>0.000000</td>\n",
       "      <td>0.000000</td>\n",
       "      <td>1.560000</td>\n",
       "    </tr>\n",
       "    <tr>\n",
       "      <th>BPHA3.SA</th>\n",
       "      <td>0.000000</td>\n",
       "      <td>0.000000</td>\n",
       "      <td>0.620000</td>\n",
       "    </tr>\n",
       "    <tr>\n",
       "      <th>ARZZ3.SA</th>\n",
       "      <td>-0.061042</td>\n",
       "      <td>8.930518</td>\n",
       "      <td>84.410004</td>\n",
       "    </tr>\n",
       "    <tr>\n",
       "      <th>AGRO3.SA</th>\n",
       "      <td>-0.102655</td>\n",
       "      <td>3.242200</td>\n",
       "      <td>27.709999</td>\n",
       "    </tr>\n",
       "    <tr>\n",
       "      <th>RAIL3.SA</th>\n",
       "      <td>-0.108328</td>\n",
       "      <td>1.706771</td>\n",
       "      <td>17.799999</td>\n",
       "    </tr>\n",
       "    <tr>\n",
       "      <th>ABEV3.SA</th>\n",
       "      <td>-0.180364</td>\n",
       "      <td>1.324774</td>\n",
       "      <td>13.190000</td>\n",
       "    </tr>\n",
       "    <tr>\n",
       "      <th>ALSO3.SA</th>\n",
       "      <td>-0.285259</td>\n",
       "      <td>4.115334</td>\n",
       "      <td>17.940001</td>\n",
       "    </tr>\n",
       "    <tr>\n",
       "      <th>BBDC3.SA</th>\n",
       "      <td>-0.295552</td>\n",
       "      <td>2.147977</td>\n",
       "      <td>12.630000</td>\n",
       "    </tr>\n",
       "    <tr>\n",
       "      <th>BBDC4.SA</th>\n",
       "      <td>-0.319244</td>\n",
       "      <td>2.514130</td>\n",
       "      <td>14.160000</td>\n",
       "    </tr>\n",
       "    <tr>\n",
       "      <th>BRAP4.SA</th>\n",
       "      <td>-0.468271</td>\n",
       "      <td>15.970262</td>\n",
       "      <td>29.830000</td>\n",
       "    </tr>\n",
       "    <tr>\n",
       "      <th>BRAP3.SA</th>\n",
       "      <td>-0.475232</td>\n",
       "      <td>13.624436</td>\n",
       "      <td>26.250000</td>\n",
       "    </tr>\n",
       "    <tr>\n",
       "      <th>BPAN4.SA</th>\n",
       "      <td>-0.654782</td>\n",
       "      <td>5.437606</td>\n",
       "      <td>5.180000</td>\n",
       "    </tr>\n",
       "    <tr>\n",
       "      <th>ALPA3.SA</th>\n",
       "      <td>-0.687344</td>\n",
       "      <td>11.762743</td>\n",
       "      <td>11.240000</td>\n",
       "    </tr>\n",
       "    <tr>\n",
       "      <th>ALPA4.SA</th>\n",
       "      <td>-0.709452</td>\n",
       "      <td>13.849071</td>\n",
       "      <td>12.450000</td>\n",
       "    </tr>\n",
       "    <tr>\n",
       "      <th>BRFS3.SA</th>\n",
       "      <td>-0.709535</td>\n",
       "      <td>5.957326</td>\n",
       "      <td>6.900000</td>\n",
       "    </tr>\n",
       "    <tr>\n",
       "      <th>AMAR3.SA</th>\n",
       "      <td>-0.807010</td>\n",
       "      <td>2.219645</td>\n",
       "      <td>1.060000</td>\n",
       "    </tr>\n",
       "  </tbody>\n",
       "</table>\n",
       "</div>"
      ],
      "text/plain": [
       "           Descont       Risk  LastPrice\n",
       "BBAS3.SA  0.120732   3.713049  39.799999\n",
       "BEEF3.SA  0.011867   2.049024  13.430000\n",
       "ABCB4.SA  0.007724   1.901196  17.940001\n",
       "ADHM3.SA  0.000000   0.000000   1.560000\n",
       "BPHA3.SA  0.000000   0.000000   0.620000\n",
       "ARZZ3.SA -0.061042   8.930518  84.410004\n",
       "AGRO3.SA -0.102655   3.242200  27.709999\n",
       "RAIL3.SA -0.108328   1.706771  17.799999\n",
       "ABEV3.SA -0.180364   1.324774  13.190000\n",
       "ALSO3.SA -0.285259   4.115334  17.940001\n",
       "BBDC3.SA -0.295552   2.147977  12.630000\n",
       "BBDC4.SA -0.319244   2.514130  14.160000\n",
       "BRAP4.SA -0.468271  15.970262  29.830000\n",
       "BRAP3.SA -0.475232  13.624436  26.250000\n",
       "BPAN4.SA -0.654782   5.437606   5.180000\n",
       "ALPA3.SA -0.687344  11.762743  11.240000\n",
       "ALPA4.SA -0.709452  13.849071  12.450000\n",
       "BRFS3.SA -0.709535   5.957326   6.900000\n",
       "AMAR3.SA -0.807010   2.219645   1.060000"
      ]
     },
     "execution_count": 13,
     "metadata": {},
     "output_type": "execute_result"
    }
   ],
   "source": [
    "# Ordenando o dataframe em ordem descendente\n",
    "df = df.sort_values(by = 'Descont', ascending = False)\n",
    "df"
   ]
  },
  {
   "cell_type": "markdown",
   "id": "e5c6be4e",
   "metadata": {},
   "source": [
    "**Visualizando a relação risco x descontos dos ativos**"
   ]
  },
  {
   "cell_type": "code",
   "execution_count": 17,
   "id": "f62aae52",
   "metadata": {
    "scrolled": false
   },
   "outputs": [
    {
     "data": {
      "application/vnd.plotly.v1+json": {
       "config": {
        "plotlyServerURL": "https://plot.ly"
       },
       "data": [
        {
         "hovertemplate": "<b>%{hovertext}</b><br><br>Risk=%{marker.color}<br>Descont=%{y}<br>LastPrice=%{marker.size}<extra></extra>",
         "hovertext": [
          "BBAS3.SA",
          "BEEF3.SA",
          "ABCB4.SA",
          "ADHM3.SA",
          "BPHA3.SA",
          "ARZZ3.SA",
          "AGRO3.SA",
          "RAIL3.SA",
          "ABEV3.SA",
          "ALSO3.SA",
          "BBDC3.SA",
          "BBDC4.SA",
          "BRAP4.SA",
          "BRAP3.SA",
          "BPAN4.SA",
          "ALPA3.SA",
          "ALPA4.SA",
          "BRFS3.SA",
          "AMAR3.SA"
         ],
         "legendgroup": "",
         "marker": {
          "color": [
           3.7130493893883685,
           2.049024304538167,
           1.9011956006570754,
           0,
           0,
           8.930517726727595,
           3.24219964828545,
           1.7067713873081996,
           1.3247735382662005,
           4.115334472384374,
           2.147976706487965,
           2.514130077611005,
           15.970262145015065,
           13.624436280964499,
           5.437606407515379,
           11.762743319980224,
           13.84907146186308,
           5.957325638890936,
           2.21964543383663
          ],
          "coloraxis": "coloraxis",
          "size": [
           39.79999923706055,
           13.430000305175781,
           17.940000534057617,
           1.559999942779541,
           0.6200000047683716,
           84.41000366210938,
           27.709999084472656,
           17.799999237060547,
           13.1899995803833,
           17.940000534057617,
           12.630000114440918,
           14.15999984741211,
           29.829999923706055,
           26.25,
           5.179999828338623,
           11.239999771118164,
           12.449999809265137,
           6.900000095367432,
           1.059999942779541
          ],
          "sizemode": "area",
          "sizeref": 0.21102500915527345,
          "symbol": "circle"
         },
         "mode": "markers",
         "name": "",
         "orientation": "v",
         "showlegend": false,
         "type": "scatter",
         "x": [
          3.7130493893883685,
          2.049024304538167,
          1.9011956006570754,
          0,
          0,
          8.930517726727595,
          3.24219964828545,
          1.7067713873081996,
          1.3247735382662005,
          4.115334472384374,
          2.147976706487965,
          2.514130077611005,
          15.970262145015065,
          13.624436280964499,
          5.437606407515379,
          11.762743319980224,
          13.84907146186308,
          5.957325638890936,
          2.21964543383663
         ],
         "xaxis": "x",
         "y": [
          0.12073215120413118,
          0.011866643460412484,
          0.007723704267792508,
          0,
          0,
          -0.06104173152857638,
          -0.10265544567505906,
          -0.10832811509637247,
          -0.18036356014188398,
          -0.28525895372886273,
          -0.29555173619691083,
          -0.31924428219974466,
          -0.4682713745568839,
          -0.4752322923461767,
          -0.6547817534934002,
          -0.6873435373921376,
          -0.7094515823003568,
          -0.7095348321563321,
          -0.8070095628750942
         ],
         "yaxis": "y"
        }
       ],
       "layout": {
        "coloraxis": {
         "colorbar": {
          "title": {
           "text": "Risk"
          }
         },
         "colorscale": [
          [
           0,
           "#0d0887"
          ],
          [
           0.1111111111111111,
           "#46039f"
          ],
          [
           0.2222222222222222,
           "#7201a8"
          ],
          [
           0.3333333333333333,
           "#9c179e"
          ],
          [
           0.4444444444444444,
           "#bd3786"
          ],
          [
           0.5555555555555556,
           "#d8576b"
          ],
          [
           0.6666666666666666,
           "#ed7953"
          ],
          [
           0.7777777777777778,
           "#fb9f3a"
          ],
          [
           0.8888888888888888,
           "#fdca26"
          ],
          [
           1,
           "#f0f921"
          ]
         ]
        },
        "legend": {
         "itemsizing": "constant",
         "tracegroupgap": 0
        },
        "margin": {
         "t": 60
        },
        "template": {
         "data": {
          "bar": [
           {
            "error_x": {
             "color": "#2a3f5f"
            },
            "error_y": {
             "color": "#2a3f5f"
            },
            "marker": {
             "line": {
              "color": "#E5ECF6",
              "width": 0.5
             },
             "pattern": {
              "fillmode": "overlay",
              "size": 10,
              "solidity": 0.2
             }
            },
            "type": "bar"
           }
          ],
          "barpolar": [
           {
            "marker": {
             "line": {
              "color": "#E5ECF6",
              "width": 0.5
             },
             "pattern": {
              "fillmode": "overlay",
              "size": 10,
              "solidity": 0.2
             }
            },
            "type": "barpolar"
           }
          ],
          "carpet": [
           {
            "aaxis": {
             "endlinecolor": "#2a3f5f",
             "gridcolor": "white",
             "linecolor": "white",
             "minorgridcolor": "white",
             "startlinecolor": "#2a3f5f"
            },
            "baxis": {
             "endlinecolor": "#2a3f5f",
             "gridcolor": "white",
             "linecolor": "white",
             "minorgridcolor": "white",
             "startlinecolor": "#2a3f5f"
            },
            "type": "carpet"
           }
          ],
          "choropleth": [
           {
            "colorbar": {
             "outlinewidth": 0,
             "ticks": ""
            },
            "type": "choropleth"
           }
          ],
          "contour": [
           {
            "colorbar": {
             "outlinewidth": 0,
             "ticks": ""
            },
            "colorscale": [
             [
              0,
              "#0d0887"
             ],
             [
              0.1111111111111111,
              "#46039f"
             ],
             [
              0.2222222222222222,
              "#7201a8"
             ],
             [
              0.3333333333333333,
              "#9c179e"
             ],
             [
              0.4444444444444444,
              "#bd3786"
             ],
             [
              0.5555555555555556,
              "#d8576b"
             ],
             [
              0.6666666666666666,
              "#ed7953"
             ],
             [
              0.7777777777777778,
              "#fb9f3a"
             ],
             [
              0.8888888888888888,
              "#fdca26"
             ],
             [
              1,
              "#f0f921"
             ]
            ],
            "type": "contour"
           }
          ],
          "contourcarpet": [
           {
            "colorbar": {
             "outlinewidth": 0,
             "ticks": ""
            },
            "type": "contourcarpet"
           }
          ],
          "heatmap": [
           {
            "colorbar": {
             "outlinewidth": 0,
             "ticks": ""
            },
            "colorscale": [
             [
              0,
              "#0d0887"
             ],
             [
              0.1111111111111111,
              "#46039f"
             ],
             [
              0.2222222222222222,
              "#7201a8"
             ],
             [
              0.3333333333333333,
              "#9c179e"
             ],
             [
              0.4444444444444444,
              "#bd3786"
             ],
             [
              0.5555555555555556,
              "#d8576b"
             ],
             [
              0.6666666666666666,
              "#ed7953"
             ],
             [
              0.7777777777777778,
              "#fb9f3a"
             ],
             [
              0.8888888888888888,
              "#fdca26"
             ],
             [
              1,
              "#f0f921"
             ]
            ],
            "type": "heatmap"
           }
          ],
          "heatmapgl": [
           {
            "colorbar": {
             "outlinewidth": 0,
             "ticks": ""
            },
            "colorscale": [
             [
              0,
              "#0d0887"
             ],
             [
              0.1111111111111111,
              "#46039f"
             ],
             [
              0.2222222222222222,
              "#7201a8"
             ],
             [
              0.3333333333333333,
              "#9c179e"
             ],
             [
              0.4444444444444444,
              "#bd3786"
             ],
             [
              0.5555555555555556,
              "#d8576b"
             ],
             [
              0.6666666666666666,
              "#ed7953"
             ],
             [
              0.7777777777777778,
              "#fb9f3a"
             ],
             [
              0.8888888888888888,
              "#fdca26"
             ],
             [
              1,
              "#f0f921"
             ]
            ],
            "type": "heatmapgl"
           }
          ],
          "histogram": [
           {
            "marker": {
             "pattern": {
              "fillmode": "overlay",
              "size": 10,
              "solidity": 0.2
             }
            },
            "type": "histogram"
           }
          ],
          "histogram2d": [
           {
            "colorbar": {
             "outlinewidth": 0,
             "ticks": ""
            },
            "colorscale": [
             [
              0,
              "#0d0887"
             ],
             [
              0.1111111111111111,
              "#46039f"
             ],
             [
              0.2222222222222222,
              "#7201a8"
             ],
             [
              0.3333333333333333,
              "#9c179e"
             ],
             [
              0.4444444444444444,
              "#bd3786"
             ],
             [
              0.5555555555555556,
              "#d8576b"
             ],
             [
              0.6666666666666666,
              "#ed7953"
             ],
             [
              0.7777777777777778,
              "#fb9f3a"
             ],
             [
              0.8888888888888888,
              "#fdca26"
             ],
             [
              1,
              "#f0f921"
             ]
            ],
            "type": "histogram2d"
           }
          ],
          "histogram2dcontour": [
           {
            "colorbar": {
             "outlinewidth": 0,
             "ticks": ""
            },
            "colorscale": [
             [
              0,
              "#0d0887"
             ],
             [
              0.1111111111111111,
              "#46039f"
             ],
             [
              0.2222222222222222,
              "#7201a8"
             ],
             [
              0.3333333333333333,
              "#9c179e"
             ],
             [
              0.4444444444444444,
              "#bd3786"
             ],
             [
              0.5555555555555556,
              "#d8576b"
             ],
             [
              0.6666666666666666,
              "#ed7953"
             ],
             [
              0.7777777777777778,
              "#fb9f3a"
             ],
             [
              0.8888888888888888,
              "#fdca26"
             ],
             [
              1,
              "#f0f921"
             ]
            ],
            "type": "histogram2dcontour"
           }
          ],
          "mesh3d": [
           {
            "colorbar": {
             "outlinewidth": 0,
             "ticks": ""
            },
            "type": "mesh3d"
           }
          ],
          "parcoords": [
           {
            "line": {
             "colorbar": {
              "outlinewidth": 0,
              "ticks": ""
             }
            },
            "type": "parcoords"
           }
          ],
          "pie": [
           {
            "automargin": true,
            "type": "pie"
           }
          ],
          "scatter": [
           {
            "fillpattern": {
             "fillmode": "overlay",
             "size": 10,
             "solidity": 0.2
            },
            "type": "scatter"
           }
          ],
          "scatter3d": [
           {
            "line": {
             "colorbar": {
              "outlinewidth": 0,
              "ticks": ""
             }
            },
            "marker": {
             "colorbar": {
              "outlinewidth": 0,
              "ticks": ""
             }
            },
            "type": "scatter3d"
           }
          ],
          "scattercarpet": [
           {
            "marker": {
             "colorbar": {
              "outlinewidth": 0,
              "ticks": ""
             }
            },
            "type": "scattercarpet"
           }
          ],
          "scattergeo": [
           {
            "marker": {
             "colorbar": {
              "outlinewidth": 0,
              "ticks": ""
             }
            },
            "type": "scattergeo"
           }
          ],
          "scattergl": [
           {
            "marker": {
             "colorbar": {
              "outlinewidth": 0,
              "ticks": ""
             }
            },
            "type": "scattergl"
           }
          ],
          "scattermapbox": [
           {
            "marker": {
             "colorbar": {
              "outlinewidth": 0,
              "ticks": ""
             }
            },
            "type": "scattermapbox"
           }
          ],
          "scatterpolar": [
           {
            "marker": {
             "colorbar": {
              "outlinewidth": 0,
              "ticks": ""
             }
            },
            "type": "scatterpolar"
           }
          ],
          "scatterpolargl": [
           {
            "marker": {
             "colorbar": {
              "outlinewidth": 0,
              "ticks": ""
             }
            },
            "type": "scatterpolargl"
           }
          ],
          "scatterternary": [
           {
            "marker": {
             "colorbar": {
              "outlinewidth": 0,
              "ticks": ""
             }
            },
            "type": "scatterternary"
           }
          ],
          "surface": [
           {
            "colorbar": {
             "outlinewidth": 0,
             "ticks": ""
            },
            "colorscale": [
             [
              0,
              "#0d0887"
             ],
             [
              0.1111111111111111,
              "#46039f"
             ],
             [
              0.2222222222222222,
              "#7201a8"
             ],
             [
              0.3333333333333333,
              "#9c179e"
             ],
             [
              0.4444444444444444,
              "#bd3786"
             ],
             [
              0.5555555555555556,
              "#d8576b"
             ],
             [
              0.6666666666666666,
              "#ed7953"
             ],
             [
              0.7777777777777778,
              "#fb9f3a"
             ],
             [
              0.8888888888888888,
              "#fdca26"
             ],
             [
              1,
              "#f0f921"
             ]
            ],
            "type": "surface"
           }
          ],
          "table": [
           {
            "cells": {
             "fill": {
              "color": "#EBF0F8"
             },
             "line": {
              "color": "white"
             }
            },
            "header": {
             "fill": {
              "color": "#C8D4E3"
             },
             "line": {
              "color": "white"
             }
            },
            "type": "table"
           }
          ]
         },
         "layout": {
          "annotationdefaults": {
           "arrowcolor": "#2a3f5f",
           "arrowhead": 0,
           "arrowwidth": 1
          },
          "autotypenumbers": "strict",
          "coloraxis": {
           "colorbar": {
            "outlinewidth": 0,
            "ticks": ""
           }
          },
          "colorscale": {
           "diverging": [
            [
             0,
             "#8e0152"
            ],
            [
             0.1,
             "#c51b7d"
            ],
            [
             0.2,
             "#de77ae"
            ],
            [
             0.3,
             "#f1b6da"
            ],
            [
             0.4,
             "#fde0ef"
            ],
            [
             0.5,
             "#f7f7f7"
            ],
            [
             0.6,
             "#e6f5d0"
            ],
            [
             0.7,
             "#b8e186"
            ],
            [
             0.8,
             "#7fbc41"
            ],
            [
             0.9,
             "#4d9221"
            ],
            [
             1,
             "#276419"
            ]
           ],
           "sequential": [
            [
             0,
             "#0d0887"
            ],
            [
             0.1111111111111111,
             "#46039f"
            ],
            [
             0.2222222222222222,
             "#7201a8"
            ],
            [
             0.3333333333333333,
             "#9c179e"
            ],
            [
             0.4444444444444444,
             "#bd3786"
            ],
            [
             0.5555555555555556,
             "#d8576b"
            ],
            [
             0.6666666666666666,
             "#ed7953"
            ],
            [
             0.7777777777777778,
             "#fb9f3a"
            ],
            [
             0.8888888888888888,
             "#fdca26"
            ],
            [
             1,
             "#f0f921"
            ]
           ],
           "sequentialminus": [
            [
             0,
             "#0d0887"
            ],
            [
             0.1111111111111111,
             "#46039f"
            ],
            [
             0.2222222222222222,
             "#7201a8"
            ],
            [
             0.3333333333333333,
             "#9c179e"
            ],
            [
             0.4444444444444444,
             "#bd3786"
            ],
            [
             0.5555555555555556,
             "#d8576b"
            ],
            [
             0.6666666666666666,
             "#ed7953"
            ],
            [
             0.7777777777777778,
             "#fb9f3a"
            ],
            [
             0.8888888888888888,
             "#fdca26"
            ],
            [
             1,
             "#f0f921"
            ]
           ]
          },
          "colorway": [
           "#636efa",
           "#EF553B",
           "#00cc96",
           "#ab63fa",
           "#FFA15A",
           "#19d3f3",
           "#FF6692",
           "#B6E880",
           "#FF97FF",
           "#FECB52"
          ],
          "font": {
           "color": "#2a3f5f"
          },
          "geo": {
           "bgcolor": "white",
           "lakecolor": "white",
           "landcolor": "#E5ECF6",
           "showlakes": true,
           "showland": true,
           "subunitcolor": "white"
          },
          "hoverlabel": {
           "align": "left"
          },
          "hovermode": "closest",
          "mapbox": {
           "style": "light"
          },
          "paper_bgcolor": "white",
          "plot_bgcolor": "#E5ECF6",
          "polar": {
           "angularaxis": {
            "gridcolor": "white",
            "linecolor": "white",
            "ticks": ""
           },
           "bgcolor": "#E5ECF6",
           "radialaxis": {
            "gridcolor": "white",
            "linecolor": "white",
            "ticks": ""
           }
          },
          "scene": {
           "xaxis": {
            "backgroundcolor": "#E5ECF6",
            "gridcolor": "white",
            "gridwidth": 2,
            "linecolor": "white",
            "showbackground": true,
            "ticks": "",
            "zerolinecolor": "white"
           },
           "yaxis": {
            "backgroundcolor": "#E5ECF6",
            "gridcolor": "white",
            "gridwidth": 2,
            "linecolor": "white",
            "showbackground": true,
            "ticks": "",
            "zerolinecolor": "white"
           },
           "zaxis": {
            "backgroundcolor": "#E5ECF6",
            "gridcolor": "white",
            "gridwidth": 2,
            "linecolor": "white",
            "showbackground": true,
            "ticks": "",
            "zerolinecolor": "white"
           }
          },
          "shapedefaults": {
           "line": {
            "color": "#2a3f5f"
           }
          },
          "ternary": {
           "aaxis": {
            "gridcolor": "white",
            "linecolor": "white",
            "ticks": ""
           },
           "baxis": {
            "gridcolor": "white",
            "linecolor": "white",
            "ticks": ""
           },
           "bgcolor": "#E5ECF6",
           "caxis": {
            "gridcolor": "white",
            "linecolor": "white",
            "ticks": ""
           }
          },
          "title": {
           "x": 0.05
          },
          "xaxis": {
           "automargin": true,
           "gridcolor": "white",
           "linecolor": "white",
           "ticks": "",
           "title": {
            "standoff": 15
           },
           "zerolinecolor": "white",
           "zerolinewidth": 2
          },
          "yaxis": {
           "automargin": true,
           "gridcolor": "white",
           "linecolor": "white",
           "ticks": "",
           "title": {
            "standoff": 15
           },
           "zerolinecolor": "white",
           "zerolinewidth": 2
          }
         }
        },
        "xaxis": {
         "anchor": "y",
         "domain": [
          0,
          1
         ],
         "title": {
          "text": "Risk"
         }
        },
        "yaxis": {
         "anchor": "x",
         "domain": [
          0,
          1
         ],
         "title": {
          "text": "Descont"
         }
        }
       }
      },
      "text/html": [
       "<div>                            <div id=\"8e74455b-3bb6-40f1-bde6-c8cf84ac50d7\" class=\"plotly-graph-div\" style=\"height:525px; width:100%;\"></div>            <script type=\"text/javascript\">                require([\"plotly\"], function(Plotly) {                    window.PLOTLYENV=window.PLOTLYENV || {};                                    if (document.getElementById(\"8e74455b-3bb6-40f1-bde6-c8cf84ac50d7\")) {                    Plotly.newPlot(                        \"8e74455b-3bb6-40f1-bde6-c8cf84ac50d7\",                        [{\"hovertemplate\":\"<b>%{hovertext}</b><br><br>Risk=%{marker.color}<br>Descont=%{y}<br>LastPrice=%{marker.size}<extra></extra>\",\"hovertext\":[\"BBAS3.SA\",\"BEEF3.SA\",\"ABCB4.SA\",\"ADHM3.SA\",\"BPHA3.SA\",\"ARZZ3.SA\",\"AGRO3.SA\",\"RAIL3.SA\",\"ABEV3.SA\",\"ALSO3.SA\",\"BBDC3.SA\",\"BBDC4.SA\",\"BRAP4.SA\",\"BRAP3.SA\",\"BPAN4.SA\",\"ALPA3.SA\",\"ALPA4.SA\",\"BRFS3.SA\",\"AMAR3.SA\"],\"legendgroup\":\"\",\"marker\":{\"color\":[3.7130493893883685,2.049024304538167,1.9011956006570754,0.0,0.0,8.930517726727595,3.24219964828545,1.7067713873081996,1.3247735382662005,4.115334472384374,2.147976706487965,2.514130077611005,15.970262145015065,13.624436280964499,5.437606407515379,11.762743319980224,13.84907146186308,5.957325638890936,2.21964543383663],\"coloraxis\":\"coloraxis\",\"size\":[39.79999923706055,13.430000305175781,17.940000534057617,1.559999942779541,0.6200000047683716,84.41000366210938,27.709999084472656,17.799999237060547,13.1899995803833,17.940000534057617,12.630000114440918,14.15999984741211,29.829999923706055,26.25,5.179999828338623,11.239999771118164,12.449999809265137,6.900000095367432,1.059999942779541],\"sizemode\":\"area\",\"sizeref\":0.21102500915527345,\"symbol\":\"circle\"},\"mode\":\"markers\",\"name\":\"\",\"orientation\":\"v\",\"showlegend\":false,\"x\":[3.7130493893883685,2.049024304538167,1.9011956006570754,0.0,0.0,8.930517726727595,3.24219964828545,1.7067713873081996,1.3247735382662005,4.115334472384374,2.147976706487965,2.514130077611005,15.970262145015065,13.624436280964499,5.437606407515379,11.762743319980224,13.84907146186308,5.957325638890936,2.21964543383663],\"xaxis\":\"x\",\"y\":[0.12073215120413118,0.011866643460412484,0.007723704267792508,0.0,0.0,-0.06104173152857638,-0.10265544567505906,-0.10832811509637247,-0.18036356014188398,-0.28525895372886273,-0.29555173619691083,-0.31924428219974466,-0.4682713745568839,-0.4752322923461767,-0.6547817534934002,-0.6873435373921376,-0.7094515823003568,-0.7095348321563321,-0.8070095628750942],\"yaxis\":\"y\",\"type\":\"scatter\"}],                        {\"template\":{\"data\":{\"histogram2dcontour\":[{\"type\":\"histogram2dcontour\",\"colorbar\":{\"outlinewidth\":0,\"ticks\":\"\"},\"colorscale\":[[0.0,\"#0d0887\"],[0.1111111111111111,\"#46039f\"],[0.2222222222222222,\"#7201a8\"],[0.3333333333333333,\"#9c179e\"],[0.4444444444444444,\"#bd3786\"],[0.5555555555555556,\"#d8576b\"],[0.6666666666666666,\"#ed7953\"],[0.7777777777777778,\"#fb9f3a\"],[0.8888888888888888,\"#fdca26\"],[1.0,\"#f0f921\"]]}],\"choropleth\":[{\"type\":\"choropleth\",\"colorbar\":{\"outlinewidth\":0,\"ticks\":\"\"}}],\"histogram2d\":[{\"type\":\"histogram2d\",\"colorbar\":{\"outlinewidth\":0,\"ticks\":\"\"},\"colorscale\":[[0.0,\"#0d0887\"],[0.1111111111111111,\"#46039f\"],[0.2222222222222222,\"#7201a8\"],[0.3333333333333333,\"#9c179e\"],[0.4444444444444444,\"#bd3786\"],[0.5555555555555556,\"#d8576b\"],[0.6666666666666666,\"#ed7953\"],[0.7777777777777778,\"#fb9f3a\"],[0.8888888888888888,\"#fdca26\"],[1.0,\"#f0f921\"]]}],\"heatmap\":[{\"type\":\"heatmap\",\"colorbar\":{\"outlinewidth\":0,\"ticks\":\"\"},\"colorscale\":[[0.0,\"#0d0887\"],[0.1111111111111111,\"#46039f\"],[0.2222222222222222,\"#7201a8\"],[0.3333333333333333,\"#9c179e\"],[0.4444444444444444,\"#bd3786\"],[0.5555555555555556,\"#d8576b\"],[0.6666666666666666,\"#ed7953\"],[0.7777777777777778,\"#fb9f3a\"],[0.8888888888888888,\"#fdca26\"],[1.0,\"#f0f921\"]]}],\"heatmapgl\":[{\"type\":\"heatmapgl\",\"colorbar\":{\"outlinewidth\":0,\"ticks\":\"\"},\"colorscale\":[[0.0,\"#0d0887\"],[0.1111111111111111,\"#46039f\"],[0.2222222222222222,\"#7201a8\"],[0.3333333333333333,\"#9c179e\"],[0.4444444444444444,\"#bd3786\"],[0.5555555555555556,\"#d8576b\"],[0.6666666666666666,\"#ed7953\"],[0.7777777777777778,\"#fb9f3a\"],[0.8888888888888888,\"#fdca26\"],[1.0,\"#f0f921\"]]}],\"contourcarpet\":[{\"type\":\"contourcarpet\",\"colorbar\":{\"outlinewidth\":0,\"ticks\":\"\"}}],\"contour\":[{\"type\":\"contour\",\"colorbar\":{\"outlinewidth\":0,\"ticks\":\"\"},\"colorscale\":[[0.0,\"#0d0887\"],[0.1111111111111111,\"#46039f\"],[0.2222222222222222,\"#7201a8\"],[0.3333333333333333,\"#9c179e\"],[0.4444444444444444,\"#bd3786\"],[0.5555555555555556,\"#d8576b\"],[0.6666666666666666,\"#ed7953\"],[0.7777777777777778,\"#fb9f3a\"],[0.8888888888888888,\"#fdca26\"],[1.0,\"#f0f921\"]]}],\"surface\":[{\"type\":\"surface\",\"colorbar\":{\"outlinewidth\":0,\"ticks\":\"\"},\"colorscale\":[[0.0,\"#0d0887\"],[0.1111111111111111,\"#46039f\"],[0.2222222222222222,\"#7201a8\"],[0.3333333333333333,\"#9c179e\"],[0.4444444444444444,\"#bd3786\"],[0.5555555555555556,\"#d8576b\"],[0.6666666666666666,\"#ed7953\"],[0.7777777777777778,\"#fb9f3a\"],[0.8888888888888888,\"#fdca26\"],[1.0,\"#f0f921\"]]}],\"mesh3d\":[{\"type\":\"mesh3d\",\"colorbar\":{\"outlinewidth\":0,\"ticks\":\"\"}}],\"scatter\":[{\"fillpattern\":{\"fillmode\":\"overlay\",\"size\":10,\"solidity\":0.2},\"type\":\"scatter\"}],\"parcoords\":[{\"type\":\"parcoords\",\"line\":{\"colorbar\":{\"outlinewidth\":0,\"ticks\":\"\"}}}],\"scatterpolargl\":[{\"type\":\"scatterpolargl\",\"marker\":{\"colorbar\":{\"outlinewidth\":0,\"ticks\":\"\"}}}],\"bar\":[{\"error_x\":{\"color\":\"#2a3f5f\"},\"error_y\":{\"color\":\"#2a3f5f\"},\"marker\":{\"line\":{\"color\":\"#E5ECF6\",\"width\":0.5},\"pattern\":{\"fillmode\":\"overlay\",\"size\":10,\"solidity\":0.2}},\"type\":\"bar\"}],\"scattergeo\":[{\"type\":\"scattergeo\",\"marker\":{\"colorbar\":{\"outlinewidth\":0,\"ticks\":\"\"}}}],\"scatterpolar\":[{\"type\":\"scatterpolar\",\"marker\":{\"colorbar\":{\"outlinewidth\":0,\"ticks\":\"\"}}}],\"histogram\":[{\"marker\":{\"pattern\":{\"fillmode\":\"overlay\",\"size\":10,\"solidity\":0.2}},\"type\":\"histogram\"}],\"scattergl\":[{\"type\":\"scattergl\",\"marker\":{\"colorbar\":{\"outlinewidth\":0,\"ticks\":\"\"}}}],\"scatter3d\":[{\"type\":\"scatter3d\",\"line\":{\"colorbar\":{\"outlinewidth\":0,\"ticks\":\"\"}},\"marker\":{\"colorbar\":{\"outlinewidth\":0,\"ticks\":\"\"}}}],\"scattermapbox\":[{\"type\":\"scattermapbox\",\"marker\":{\"colorbar\":{\"outlinewidth\":0,\"ticks\":\"\"}}}],\"scatterternary\":[{\"type\":\"scatterternary\",\"marker\":{\"colorbar\":{\"outlinewidth\":0,\"ticks\":\"\"}}}],\"scattercarpet\":[{\"type\":\"scattercarpet\",\"marker\":{\"colorbar\":{\"outlinewidth\":0,\"ticks\":\"\"}}}],\"carpet\":[{\"aaxis\":{\"endlinecolor\":\"#2a3f5f\",\"gridcolor\":\"white\",\"linecolor\":\"white\",\"minorgridcolor\":\"white\",\"startlinecolor\":\"#2a3f5f\"},\"baxis\":{\"endlinecolor\":\"#2a3f5f\",\"gridcolor\":\"white\",\"linecolor\":\"white\",\"minorgridcolor\":\"white\",\"startlinecolor\":\"#2a3f5f\"},\"type\":\"carpet\"}],\"table\":[{\"cells\":{\"fill\":{\"color\":\"#EBF0F8\"},\"line\":{\"color\":\"white\"}},\"header\":{\"fill\":{\"color\":\"#C8D4E3\"},\"line\":{\"color\":\"white\"}},\"type\":\"table\"}],\"barpolar\":[{\"marker\":{\"line\":{\"color\":\"#E5ECF6\",\"width\":0.5},\"pattern\":{\"fillmode\":\"overlay\",\"size\":10,\"solidity\":0.2}},\"type\":\"barpolar\"}],\"pie\":[{\"automargin\":true,\"type\":\"pie\"}]},\"layout\":{\"autotypenumbers\":\"strict\",\"colorway\":[\"#636efa\",\"#EF553B\",\"#00cc96\",\"#ab63fa\",\"#FFA15A\",\"#19d3f3\",\"#FF6692\",\"#B6E880\",\"#FF97FF\",\"#FECB52\"],\"font\":{\"color\":\"#2a3f5f\"},\"hovermode\":\"closest\",\"hoverlabel\":{\"align\":\"left\"},\"paper_bgcolor\":\"white\",\"plot_bgcolor\":\"#E5ECF6\",\"polar\":{\"bgcolor\":\"#E5ECF6\",\"angularaxis\":{\"gridcolor\":\"white\",\"linecolor\":\"white\",\"ticks\":\"\"},\"radialaxis\":{\"gridcolor\":\"white\",\"linecolor\":\"white\",\"ticks\":\"\"}},\"ternary\":{\"bgcolor\":\"#E5ECF6\",\"aaxis\":{\"gridcolor\":\"white\",\"linecolor\":\"white\",\"ticks\":\"\"},\"baxis\":{\"gridcolor\":\"white\",\"linecolor\":\"white\",\"ticks\":\"\"},\"caxis\":{\"gridcolor\":\"white\",\"linecolor\":\"white\",\"ticks\":\"\"}},\"coloraxis\":{\"colorbar\":{\"outlinewidth\":0,\"ticks\":\"\"}},\"colorscale\":{\"sequential\":[[0.0,\"#0d0887\"],[0.1111111111111111,\"#46039f\"],[0.2222222222222222,\"#7201a8\"],[0.3333333333333333,\"#9c179e\"],[0.4444444444444444,\"#bd3786\"],[0.5555555555555556,\"#d8576b\"],[0.6666666666666666,\"#ed7953\"],[0.7777777777777778,\"#fb9f3a\"],[0.8888888888888888,\"#fdca26\"],[1.0,\"#f0f921\"]],\"sequentialminus\":[[0.0,\"#0d0887\"],[0.1111111111111111,\"#46039f\"],[0.2222222222222222,\"#7201a8\"],[0.3333333333333333,\"#9c179e\"],[0.4444444444444444,\"#bd3786\"],[0.5555555555555556,\"#d8576b\"],[0.6666666666666666,\"#ed7953\"],[0.7777777777777778,\"#fb9f3a\"],[0.8888888888888888,\"#fdca26\"],[1.0,\"#f0f921\"]],\"diverging\":[[0,\"#8e0152\"],[0.1,\"#c51b7d\"],[0.2,\"#de77ae\"],[0.3,\"#f1b6da\"],[0.4,\"#fde0ef\"],[0.5,\"#f7f7f7\"],[0.6,\"#e6f5d0\"],[0.7,\"#b8e186\"],[0.8,\"#7fbc41\"],[0.9,\"#4d9221\"],[1,\"#276419\"]]},\"xaxis\":{\"gridcolor\":\"white\",\"linecolor\":\"white\",\"ticks\":\"\",\"title\":{\"standoff\":15},\"zerolinecolor\":\"white\",\"automargin\":true,\"zerolinewidth\":2},\"yaxis\":{\"gridcolor\":\"white\",\"linecolor\":\"white\",\"ticks\":\"\",\"title\":{\"standoff\":15},\"zerolinecolor\":\"white\",\"automargin\":true,\"zerolinewidth\":2},\"scene\":{\"xaxis\":{\"backgroundcolor\":\"#E5ECF6\",\"gridcolor\":\"white\",\"linecolor\":\"white\",\"showbackground\":true,\"ticks\":\"\",\"zerolinecolor\":\"white\",\"gridwidth\":2},\"yaxis\":{\"backgroundcolor\":\"#E5ECF6\",\"gridcolor\":\"white\",\"linecolor\":\"white\",\"showbackground\":true,\"ticks\":\"\",\"zerolinecolor\":\"white\",\"gridwidth\":2},\"zaxis\":{\"backgroundcolor\":\"#E5ECF6\",\"gridcolor\":\"white\",\"linecolor\":\"white\",\"showbackground\":true,\"ticks\":\"\",\"zerolinecolor\":\"white\",\"gridwidth\":2}},\"shapedefaults\":{\"line\":{\"color\":\"#2a3f5f\"}},\"annotationdefaults\":{\"arrowcolor\":\"#2a3f5f\",\"arrowhead\":0,\"arrowwidth\":1},\"geo\":{\"bgcolor\":\"white\",\"landcolor\":\"#E5ECF6\",\"subunitcolor\":\"white\",\"showland\":true,\"showlakes\":true,\"lakecolor\":\"white\"},\"title\":{\"x\":0.05},\"mapbox\":{\"style\":\"light\"}}},\"xaxis\":{\"anchor\":\"y\",\"domain\":[0.0,1.0],\"title\":{\"text\":\"Risk\"}},\"yaxis\":{\"anchor\":\"x\",\"domain\":[0.0,1.0],\"title\":{\"text\":\"Descont\"}},\"coloraxis\":{\"colorbar\":{\"title\":{\"text\":\"Risk\"}},\"colorscale\":[[0.0,\"#0d0887\"],[0.1111111111111111,\"#46039f\"],[0.2222222222222222,\"#7201a8\"],[0.3333333333333333,\"#9c179e\"],[0.4444444444444444,\"#bd3786\"],[0.5555555555555556,\"#d8576b\"],[0.6666666666666666,\"#ed7953\"],[0.7777777777777778,\"#fb9f3a\"],[0.8888888888888888,\"#fdca26\"],[1.0,\"#f0f921\"]]},\"legend\":{\"tracegroupgap\":0,\"itemsizing\":\"constant\"},\"margin\":{\"t\":60}},                        {\"responsive\": true}                    ).then(function(){\n",
       "                            \n",
       "var gd = document.getElementById('8e74455b-3bb6-40f1-bde6-c8cf84ac50d7');\n",
       "var x = new MutationObserver(function (mutations, observer) {{\n",
       "        var display = window.getComputedStyle(gd).display;\n",
       "        if (!display || display === 'none') {{\n",
       "            console.log([gd, 'removed!']);\n",
       "            Plotly.purge(gd);\n",
       "            observer.disconnect();\n",
       "        }}\n",
       "}});\n",
       "\n",
       "// Listen for the removal of the full notebook cells\n",
       "var notebookContainer = gd.closest('#notebook-container');\n",
       "if (notebookContainer) {{\n",
       "    x.observe(notebookContainer, {childList: true});\n",
       "}}\n",
       "\n",
       "// Listen for the clearing of the current output cell\n",
       "var outputEl = gd.closest('.output');\n",
       "if (outputEl) {{\n",
       "    x.observe(outputEl, {childList: true});\n",
       "}}\n",
       "\n",
       "                        })                };                });            </script>        </div>"
      ]
     },
     "metadata": {},
     "output_type": "display_data"
    }
   ],
   "source": [
    "fig = px.scatter(\n",
    "    df, \n",
    "    x = 'Risk',\n",
    "    y = 'Descont', \n",
    "    size = 'LastPrice',\n",
    "    hover_name = df.index,\n",
    "    color='Risk'\n",
    ")\n",
    "fig.show()"
   ]
  },
  {
   "cell_type": "markdown",
   "id": "07147cd8",
   "metadata": {},
   "source": [
    "# 4. Encontrando a carteira mais eficiente"
   ]
  },
  {
   "cell_type": "markdown",
   "id": "c3d64284",
   "metadata": {},
   "source": [
    "Digamos que vamos escolher dois desses ativos para compor nossa carteira, porém não sabemos quanto devemos alocar em cada um para maximizar nossos. Neste caso podemos utilizar a técnica de otimização de carteira de Markwitz.\n",
    "\n",
    "Como exemplo, vamos considerar que iremos comprar banco PAN e Bradesco."
   ]
  },
  {
   "cell_type": "markdown",
   "id": "2ba27b85",
   "metadata": {},
   "source": [
    "**Criando um data frame com os preços de fechamento ajustados**"
   ]
  },
  {
   "cell_type": "code",
   "execution_count": 18,
   "id": "bacba406",
   "metadata": {},
   "outputs": [
    {
     "data": {
      "text/html": [
       "<div>\n",
       "<style scoped>\n",
       "    .dataframe tbody tr th:only-of-type {\n",
       "        vertical-align: middle;\n",
       "    }\n",
       "\n",
       "    .dataframe tbody tr th {\n",
       "        vertical-align: top;\n",
       "    }\n",
       "\n",
       "    .dataframe thead th {\n",
       "        text-align: right;\n",
       "    }\n",
       "</style>\n",
       "<table border=\"1\" class=\"dataframe\">\n",
       "  <thead>\n",
       "    <tr style=\"text-align: right;\">\n",
       "      <th></th>\n",
       "      <th>BPAN4.SA</th>\n",
       "      <th>BBDC4.SA</th>\n",
       "    </tr>\n",
       "    <tr>\n",
       "      <th>Date</th>\n",
       "      <th></th>\n",
       "      <th></th>\n",
       "    </tr>\n",
       "  </thead>\n",
       "  <tbody>\n",
       "    <tr>\n",
       "      <th>2021-02-09 00:00:00-03:00</th>\n",
       "      <td>11.793015</td>\n",
       "      <td>18.868242</td>\n",
       "    </tr>\n",
       "    <tr>\n",
       "      <th>2021-02-10 00:00:00-03:00</th>\n",
       "      <td>11.477936</td>\n",
       "      <td>18.660650</td>\n",
       "    </tr>\n",
       "    <tr>\n",
       "      <th>2021-02-11 00:00:00-03:00</th>\n",
       "      <td>11.522947</td>\n",
       "      <td>18.682894</td>\n",
       "    </tr>\n",
       "    <tr>\n",
       "      <th>2021-02-12 00:00:00-03:00</th>\n",
       "      <td>11.306892</td>\n",
       "      <td>18.682894</td>\n",
       "    </tr>\n",
       "    <tr>\n",
       "      <th>2021-02-17 00:00:00-03:00</th>\n",
       "      <td>11.441926</td>\n",
       "      <td>18.668066</td>\n",
       "    </tr>\n",
       "  </tbody>\n",
       "</table>\n",
       "</div>"
      ],
      "text/plain": [
       "                            BPAN4.SA   BBDC4.SA\n",
       "Date                                           \n",
       "2021-02-09 00:00:00-03:00  11.793015  18.868242\n",
       "2021-02-10 00:00:00-03:00  11.477936  18.660650\n",
       "2021-02-11 00:00:00-03:00  11.522947  18.682894\n",
       "2021-02-12 00:00:00-03:00  11.306892  18.682894\n",
       "2021-02-17 00:00:00-03:00  11.441926  18.668066"
      ]
     },
     "execution_count": 18,
     "metadata": {},
     "output_type": "execute_result"
    }
   ],
   "source": [
    "adj_close = pd.DataFrame({\n",
    "    'BPAN4.SA': stockDict['BPAN4.SA']['Adj Close'], \n",
    "    'BBDC4.SA':stockDict['BBDC4.SA']['Adj Close']\n",
    "}, \n",
    "    index = stockDict['BBDC4.SA'].index\n",
    ")\n",
    "\n",
    "adj_close.head()"
   ]
  },
  {
   "cell_type": "markdown",
   "id": "cf5d5377",
   "metadata": {},
   "source": [
    "**Calculando o retorno**"
   ]
  },
  {
   "cell_type": "code",
   "execution_count": 19,
   "id": "ba98b90b",
   "metadata": {},
   "outputs": [
    {
     "data": {
      "text/html": [
       "<div>\n",
       "<style scoped>\n",
       "    .dataframe tbody tr th:only-of-type {\n",
       "        vertical-align: middle;\n",
       "    }\n",
       "\n",
       "    .dataframe tbody tr th {\n",
       "        vertical-align: top;\n",
       "    }\n",
       "\n",
       "    .dataframe thead th {\n",
       "        text-align: right;\n",
       "    }\n",
       "</style>\n",
       "<table border=\"1\" class=\"dataframe\">\n",
       "  <thead>\n",
       "    <tr style=\"text-align: right;\">\n",
       "      <th></th>\n",
       "      <th>BPAN4.SA</th>\n",
       "      <th>BBDC4.SA</th>\n",
       "    </tr>\n",
       "    <tr>\n",
       "      <th>Date</th>\n",
       "      <th></th>\n",
       "      <th></th>\n",
       "    </tr>\n",
       "  </thead>\n",
       "  <tbody>\n",
       "    <tr>\n",
       "      <th>2021-02-10 00:00:00-03:00</th>\n",
       "      <td>-0.026717</td>\n",
       "      <td>-0.011002</td>\n",
       "    </tr>\n",
       "    <tr>\n",
       "      <th>2021-02-11 00:00:00-03:00</th>\n",
       "      <td>0.003922</td>\n",
       "      <td>0.001192</td>\n",
       "    </tr>\n",
       "    <tr>\n",
       "      <th>2021-02-12 00:00:00-03:00</th>\n",
       "      <td>-0.018750</td>\n",
       "      <td>0.000000</td>\n",
       "    </tr>\n",
       "    <tr>\n",
       "      <th>2021-02-17 00:00:00-03:00</th>\n",
       "      <td>0.011943</td>\n",
       "      <td>-0.000794</td>\n",
       "    </tr>\n",
       "    <tr>\n",
       "      <th>2021-02-18 00:00:00-03:00</th>\n",
       "      <td>0.019670</td>\n",
       "      <td>-0.009865</td>\n",
       "    </tr>\n",
       "    <tr>\n",
       "      <th>...</th>\n",
       "      <td>...</td>\n",
       "      <td>...</td>\n",
       "    </tr>\n",
       "    <tr>\n",
       "      <th>2023-02-02 00:00:00-03:00</th>\n",
       "      <td>-0.001701</td>\n",
       "      <td>0.015219</td>\n",
       "    </tr>\n",
       "    <tr>\n",
       "      <th>2023-02-03 00:00:00-03:00</th>\n",
       "      <td>-0.051107</td>\n",
       "      <td>-0.022238</td>\n",
       "    </tr>\n",
       "    <tr>\n",
       "      <th>2023-02-06 00:00:00-03:00</th>\n",
       "      <td>-0.012567</td>\n",
       "      <td>-0.003668</td>\n",
       "    </tr>\n",
       "    <tr>\n",
       "      <th>2023-02-07 00:00:00-03:00</th>\n",
       "      <td>-0.047273</td>\n",
       "      <td>-0.005891</td>\n",
       "    </tr>\n",
       "    <tr>\n",
       "      <th>2023-02-08 00:00:00-03:00</th>\n",
       "      <td>-0.011450</td>\n",
       "      <td>0.048889</td>\n",
       "    </tr>\n",
       "  </tbody>\n",
       "</table>\n",
       "<p>499 rows × 2 columns</p>\n",
       "</div>"
      ],
      "text/plain": [
       "                           BPAN4.SA  BBDC4.SA\n",
       "Date                                         \n",
       "2021-02-10 00:00:00-03:00 -0.026717 -0.011002\n",
       "2021-02-11 00:00:00-03:00  0.003922  0.001192\n",
       "2021-02-12 00:00:00-03:00 -0.018750  0.000000\n",
       "2021-02-17 00:00:00-03:00  0.011943 -0.000794\n",
       "2021-02-18 00:00:00-03:00  0.019670 -0.009865\n",
       "...                             ...       ...\n",
       "2023-02-02 00:00:00-03:00 -0.001701  0.015219\n",
       "2023-02-03 00:00:00-03:00 -0.051107 -0.022238\n",
       "2023-02-06 00:00:00-03:00 -0.012567 -0.003668\n",
       "2023-02-07 00:00:00-03:00 -0.047273 -0.005891\n",
       "2023-02-08 00:00:00-03:00 -0.011450  0.048889\n",
       "\n",
       "[499 rows x 2 columns]"
      ]
     },
     "execution_count": 19,
     "metadata": {},
     "output_type": "execute_result"
    }
   ],
   "source": [
    "retorno = adj_close.pct_change().dropna()\n",
    "retorno"
   ]
  },
  {
   "cell_type": "markdown",
   "id": "903dda27",
   "metadata": {},
   "source": [
    "**Função para calcular o resultado da carteira anual**"
   ]
  },
  {
   "cell_type": "code",
   "execution_count": 20,
   "id": "64cee0fc",
   "metadata": {},
   "outputs": [],
   "source": [
    "def calcCarteira(df, peso):\n",
    "    \"\"\"\n",
    "    Essa função calcula o retorno e a volatilidade anual da carteira\n",
    "    \"\"\"\n",
    "    pesos = [peso, (1-peso)]\n",
    "    df2 = df.dot(pesos).copy()\n",
    "    return df2.mean() * 252, df2.std() * np.sqrt(252)"
   ]
  },
  {
   "cell_type": "markdown",
   "id": "16ef0d0f",
   "metadata": {},
   "source": [
    "**Calculando os resultados da 100 carteiras**"
   ]
  },
  {
   "cell_type": "code",
   "execution_count": 21,
   "id": "865354f5",
   "metadata": {},
   "outputs": [
    {
     "data": {
      "text/html": [
       "<div>\n",
       "<style scoped>\n",
       "    .dataframe tbody tr th:only-of-type {\n",
       "        vertical-align: middle;\n",
       "    }\n",
       "\n",
       "    .dataframe tbody tr th {\n",
       "        vertical-align: top;\n",
       "    }\n",
       "\n",
       "    .dataframe thead th {\n",
       "        text-align: right;\n",
       "    }\n",
       "</style>\n",
       "<table border=\"1\" class=\"dataframe\">\n",
       "  <thead>\n",
       "    <tr style=\"text-align: right;\">\n",
       "      <th></th>\n",
       "      <th>Retorno</th>\n",
       "      <th>Volatilidade</th>\n",
       "    </tr>\n",
       "  </thead>\n",
       "  <tbody>\n",
       "    <tr>\n",
       "      <th>0.00</th>\n",
       "      <td>-0.090899</td>\n",
       "      <td>0.325748</td>\n",
       "    </tr>\n",
       "    <tr>\n",
       "      <th>0.01</th>\n",
       "      <td>-0.092308</td>\n",
       "      <td>0.324668</td>\n",
       "    </tr>\n",
       "    <tr>\n",
       "      <th>0.02</th>\n",
       "      <td>-0.093718</td>\n",
       "      <td>0.323689</td>\n",
       "    </tr>\n",
       "    <tr>\n",
       "      <th>0.03</th>\n",
       "      <td>-0.095128</td>\n",
       "      <td>0.322812</td>\n",
       "    </tr>\n",
       "    <tr>\n",
       "      <th>0.04</th>\n",
       "      <td>-0.096538</td>\n",
       "      <td>0.322038</td>\n",
       "    </tr>\n",
       "  </tbody>\n",
       "</table>\n",
       "</div>"
      ],
      "text/plain": [
       "       Retorno  Volatilidade\n",
       "0.00 -0.090899      0.325748\n",
       "0.01 -0.092308      0.324668\n",
       "0.02 -0.093718      0.323689\n",
       "0.03 -0.095128      0.322812\n",
       "0.04 -0.096538      0.322038"
      ]
     },
     "execution_count": 21,
     "metadata": {},
     "output_type": "execute_result"
    }
   ],
   "source": [
    "carteiras = pd.DataFrame()\n",
    "for i in np.linspace(0, 1, 101):\n",
    "    media, volatilidade = calcCarteira (retorno, i)\n",
    "    carteiras.loc[i, 'Retorno'] = media\n",
    "    carteiras.loc[i, 'Volatilidade'] = volatilidade\n",
    "\n",
    "carteiras.head()"
   ]
  },
  {
   "cell_type": "code",
   "execution_count": 22,
   "id": "b9c18fb5",
   "metadata": {},
   "outputs": [],
   "source": [
    "menor_risco = carteiras['Volatilidade'].idxmin()"
   ]
  },
  {
   "cell_type": "markdown",
   "id": "f854f1f6",
   "metadata": {},
   "source": [
    "**Visualizando a fronteira eficiente de Markwitz**"
   ]
  },
  {
   "cell_type": "code",
   "execution_count": 23,
   "id": "b317829f",
   "metadata": {},
   "outputs": [
    {
     "data": {
      "application/vnd.plotly.v1+json": {
       "config": {
        "plotlyServerURL": "https://plot.ly"
       },
       "data": [
        {
         "hovertemplate": "Volatilidade=%{x}<br>Retorno=%{y}<extra></extra>",
         "legendgroup": "",
         "marker": {
          "color": "#636efa",
          "symbol": "circle"
         },
         "mode": "markers",
         "name": "",
         "orientation": "v",
         "showlegend": false,
         "type": "scatter",
         "x": [
          0.3257481681595675,
          0.3246680924151109,
          0.323689108650393,
          0.32281213660358293,
          0.32203800966892154,
          0.3213674710634792,
          0.32080117034888983,
          0.3203396603450227,
          0.3199833944691149,
          0.3197327245298102,
          0.31958789900088436,
          0.3195490617942871,
          0.3196162515465764,
          0.31978940142697887,
          0.32006833946929525,
          0.32045278942381555,
          0.32094237211942284,
          0.3215366073202952,
          0.3222349160561512,
          0.32303662339996336,
          0.3239409616625386,
          0.3249470739694641,
          0.3260540181826444,
          0.32726077112609414,
          0.3285662330738033,
          0.3299692324563572,
          0.33146853074256083,
          0.33306282745255755,
          0.3347507652597941,
          0.3365309351406037,
          0.338401881532101,
          0.34036210746143414,
          0.34241007961211833,
          0.3445442332961489,
          0.3467629773037353,
          0.34906469860576894,
          0.35144776688746665,
          0.35391053889493557,
          0.3564513625796455,
          0.3590685810289361,
          0.3617605361736508,
          0.36452557226678434,
          0.36736203912961846,
          0.3702682951641713,
          0.37324271013290833,
          0.3762836677085521,
          0.3793895677984669,
          0.3825588286495038,
          0.3857898887403859,
          0.38908120846967637,
          0.39243127164816227,
          0.3958385868050631,
          0.39930168831790697,
          0.40281913737619,
          0.4063895227890732,
          0.41001146164738955,
          0.41368359985016656,
          0.4174046125056866,
          0.42117320421688503,
          0.4249881092605753,
          0.4288480916696554,
          0.43275194522705235,
          0.4366984933797637,
          0.4406865890809238,
          0.44471511456736895,
          0.44878298107974546,
          0.4528891285317451,
          0.45703252513462284,
          0.4612121669827039,
          0.46542707760518087,
          0.46967630748908545,
          0.473958933577932,
          0.4782740587501534,
          0.4826208112810982,
          0.48699834429202227,
          0.4914058351891869,
          0.4958424850958812,
          0.5003075182799096,
          0.5048001815788206,
          0.5093197438249218,
          0.5138654952718893,
          0.518436747024581,
          0.5230328304734803,
          0.5276530967350017,
          0.5322969160987495,
          0.5369636774826645,
          0.5416527878968597,
          0.5463636719168282,
          0.5510957711665952,
          0.5558485438122825,
          0.5606214640664691,
          0.565414021703648,
          0.5702257215870048,
          0.5750560832066851,
          0.5799046402296437,
          0.5847709400611463,
          0.5896545434179123,
          0.5945550239128773,
          0.5994719676515022,
          0.604404972839528,
          0.6093536494020557
         ],
         "xaxis": "x",
         "y": [
          -0.09089850552720473,
          -0.09230837867225,
          -0.09371825181729507,
          -0.09512812496234035,
          -0.09653799810738557,
          -0.09794787125243085,
          -0.09935774439747598,
          -0.10076761754252124,
          -0.1021774906875664,
          -0.1035873638326116,
          -0.10499723697765687,
          -0.10640711012270186,
          -0.1078169832677471,
          -0.10922685641279263,
          -0.11063672955783795,
          -0.1120466027028828,
          -0.11345647584792802,
          -0.11486634899297334,
          -0.11627622213801858,
          -0.11768609528306385,
          -0.11909596842810882,
          -0.12050584157315411,
          -0.12191571471819929,
          -0.12332558786324463,
          -0.12473546100828967,
          -0.12614533415333504,
          -0.1275552072983803,
          -0.1289650804434254,
          -0.13037495358847068,
          -0.13178482673351577,
          -0.13319469987856097,
          -0.13460457302360615,
          -0.1360144461686513,
          -0.13742431931369653,
          -0.13883419245874185,
          -0.1402440656037871,
          -0.14165393874883214,
          -0.14306381189387743,
          -0.14447368503892274,
          -0.1458835581839679,
          -0.14729343132901299,
          -0.1487033044740583,
          -0.1501131776191035,
          -0.1515230507641487,
          -0.152932923909194,
          -0.15434279705423917,
          -0.1557526701992845,
          -0.1571625433443295,
          -0.1585724164893747,
          -0.15998228963442004,
          -0.1613921627794652,
          -0.1628020359245104,
          -0.1642119090695557,
          -0.16562178221460103,
          -0.16703165535964598,
          -0.1684415285046912,
          -0.16985140164973647,
          -0.1712612747947816,
          -0.17267114793982682,
          -0.17408102108487208,
          -0.17549089422991734,
          -0.17690076737496255,
          -0.17831064052000772,
          -0.179720513665053,
          -0.18113038681009808,
          -0.18254025995514328,
          -0.18395013310018843,
          -0.18536000624523363,
          -0.18676987939027895,
          -0.18817975253532418,
          -0.1895896256803695,
          -0.19099949882541462,
          -0.19240937197045968,
          -0.19381924511550508,
          -0.1952291182605503,
          -0.19663899140559535,
          -0.19804886455064044,
          -0.19945873769568612,
          -0.200868610840731,
          -0.2022784839857763,
          -0.20368835713082148,
          -0.20509823027586688,
          -0.20650810342091197,
          -0.20791797656595729,
          -0.20932784971100243,
          -0.21073772285604755,
          -0.21214759600109284,
          -0.213557469146138,
          -0.21496734229118314,
          -0.21637721543622837,
          -0.2177870885812735,
          -0.21919696172631867,
          -0.22060683487136412,
          -0.2220167080164093,
          -0.22342658116145422,
          -0.22483645430649957,
          -0.22624632745154483,
          -0.22765620059659028,
          -0.2290660737416351,
          -0.23047594688668066,
          -0.23188582003172567
         ],
         "yaxis": "y"
        }
       ],
       "layout": {
        "legend": {
         "tracegroupgap": 0
        },
        "margin": {
         "t": 60
        },
        "template": {
         "data": {
          "bar": [
           {
            "error_x": {
             "color": "#2a3f5f"
            },
            "error_y": {
             "color": "#2a3f5f"
            },
            "marker": {
             "line": {
              "color": "#E5ECF6",
              "width": 0.5
             },
             "pattern": {
              "fillmode": "overlay",
              "size": 10,
              "solidity": 0.2
             }
            },
            "type": "bar"
           }
          ],
          "barpolar": [
           {
            "marker": {
             "line": {
              "color": "#E5ECF6",
              "width": 0.5
             },
             "pattern": {
              "fillmode": "overlay",
              "size": 10,
              "solidity": 0.2
             }
            },
            "type": "barpolar"
           }
          ],
          "carpet": [
           {
            "aaxis": {
             "endlinecolor": "#2a3f5f",
             "gridcolor": "white",
             "linecolor": "white",
             "minorgridcolor": "white",
             "startlinecolor": "#2a3f5f"
            },
            "baxis": {
             "endlinecolor": "#2a3f5f",
             "gridcolor": "white",
             "linecolor": "white",
             "minorgridcolor": "white",
             "startlinecolor": "#2a3f5f"
            },
            "type": "carpet"
           }
          ],
          "choropleth": [
           {
            "colorbar": {
             "outlinewidth": 0,
             "ticks": ""
            },
            "type": "choropleth"
           }
          ],
          "contour": [
           {
            "colorbar": {
             "outlinewidth": 0,
             "ticks": ""
            },
            "colorscale": [
             [
              0,
              "#0d0887"
             ],
             [
              0.1111111111111111,
              "#46039f"
             ],
             [
              0.2222222222222222,
              "#7201a8"
             ],
             [
              0.3333333333333333,
              "#9c179e"
             ],
             [
              0.4444444444444444,
              "#bd3786"
             ],
             [
              0.5555555555555556,
              "#d8576b"
             ],
             [
              0.6666666666666666,
              "#ed7953"
             ],
             [
              0.7777777777777778,
              "#fb9f3a"
             ],
             [
              0.8888888888888888,
              "#fdca26"
             ],
             [
              1,
              "#f0f921"
             ]
            ],
            "type": "contour"
           }
          ],
          "contourcarpet": [
           {
            "colorbar": {
             "outlinewidth": 0,
             "ticks": ""
            },
            "type": "contourcarpet"
           }
          ],
          "heatmap": [
           {
            "colorbar": {
             "outlinewidth": 0,
             "ticks": ""
            },
            "colorscale": [
             [
              0,
              "#0d0887"
             ],
             [
              0.1111111111111111,
              "#46039f"
             ],
             [
              0.2222222222222222,
              "#7201a8"
             ],
             [
              0.3333333333333333,
              "#9c179e"
             ],
             [
              0.4444444444444444,
              "#bd3786"
             ],
             [
              0.5555555555555556,
              "#d8576b"
             ],
             [
              0.6666666666666666,
              "#ed7953"
             ],
             [
              0.7777777777777778,
              "#fb9f3a"
             ],
             [
              0.8888888888888888,
              "#fdca26"
             ],
             [
              1,
              "#f0f921"
             ]
            ],
            "type": "heatmap"
           }
          ],
          "heatmapgl": [
           {
            "colorbar": {
             "outlinewidth": 0,
             "ticks": ""
            },
            "colorscale": [
             [
              0,
              "#0d0887"
             ],
             [
              0.1111111111111111,
              "#46039f"
             ],
             [
              0.2222222222222222,
              "#7201a8"
             ],
             [
              0.3333333333333333,
              "#9c179e"
             ],
             [
              0.4444444444444444,
              "#bd3786"
             ],
             [
              0.5555555555555556,
              "#d8576b"
             ],
             [
              0.6666666666666666,
              "#ed7953"
             ],
             [
              0.7777777777777778,
              "#fb9f3a"
             ],
             [
              0.8888888888888888,
              "#fdca26"
             ],
             [
              1,
              "#f0f921"
             ]
            ],
            "type": "heatmapgl"
           }
          ],
          "histogram": [
           {
            "marker": {
             "pattern": {
              "fillmode": "overlay",
              "size": 10,
              "solidity": 0.2
             }
            },
            "type": "histogram"
           }
          ],
          "histogram2d": [
           {
            "colorbar": {
             "outlinewidth": 0,
             "ticks": ""
            },
            "colorscale": [
             [
              0,
              "#0d0887"
             ],
             [
              0.1111111111111111,
              "#46039f"
             ],
             [
              0.2222222222222222,
              "#7201a8"
             ],
             [
              0.3333333333333333,
              "#9c179e"
             ],
             [
              0.4444444444444444,
              "#bd3786"
             ],
             [
              0.5555555555555556,
              "#d8576b"
             ],
             [
              0.6666666666666666,
              "#ed7953"
             ],
             [
              0.7777777777777778,
              "#fb9f3a"
             ],
             [
              0.8888888888888888,
              "#fdca26"
             ],
             [
              1,
              "#f0f921"
             ]
            ],
            "type": "histogram2d"
           }
          ],
          "histogram2dcontour": [
           {
            "colorbar": {
             "outlinewidth": 0,
             "ticks": ""
            },
            "colorscale": [
             [
              0,
              "#0d0887"
             ],
             [
              0.1111111111111111,
              "#46039f"
             ],
             [
              0.2222222222222222,
              "#7201a8"
             ],
             [
              0.3333333333333333,
              "#9c179e"
             ],
             [
              0.4444444444444444,
              "#bd3786"
             ],
             [
              0.5555555555555556,
              "#d8576b"
             ],
             [
              0.6666666666666666,
              "#ed7953"
             ],
             [
              0.7777777777777778,
              "#fb9f3a"
             ],
             [
              0.8888888888888888,
              "#fdca26"
             ],
             [
              1,
              "#f0f921"
             ]
            ],
            "type": "histogram2dcontour"
           }
          ],
          "mesh3d": [
           {
            "colorbar": {
             "outlinewidth": 0,
             "ticks": ""
            },
            "type": "mesh3d"
           }
          ],
          "parcoords": [
           {
            "line": {
             "colorbar": {
              "outlinewidth": 0,
              "ticks": ""
             }
            },
            "type": "parcoords"
           }
          ],
          "pie": [
           {
            "automargin": true,
            "type": "pie"
           }
          ],
          "scatter": [
           {
            "fillpattern": {
             "fillmode": "overlay",
             "size": 10,
             "solidity": 0.2
            },
            "type": "scatter"
           }
          ],
          "scatter3d": [
           {
            "line": {
             "colorbar": {
              "outlinewidth": 0,
              "ticks": ""
             }
            },
            "marker": {
             "colorbar": {
              "outlinewidth": 0,
              "ticks": ""
             }
            },
            "type": "scatter3d"
           }
          ],
          "scattercarpet": [
           {
            "marker": {
             "colorbar": {
              "outlinewidth": 0,
              "ticks": ""
             }
            },
            "type": "scattercarpet"
           }
          ],
          "scattergeo": [
           {
            "marker": {
             "colorbar": {
              "outlinewidth": 0,
              "ticks": ""
             }
            },
            "type": "scattergeo"
           }
          ],
          "scattergl": [
           {
            "marker": {
             "colorbar": {
              "outlinewidth": 0,
              "ticks": ""
             }
            },
            "type": "scattergl"
           }
          ],
          "scattermapbox": [
           {
            "marker": {
             "colorbar": {
              "outlinewidth": 0,
              "ticks": ""
             }
            },
            "type": "scattermapbox"
           }
          ],
          "scatterpolar": [
           {
            "marker": {
             "colorbar": {
              "outlinewidth": 0,
              "ticks": ""
             }
            },
            "type": "scatterpolar"
           }
          ],
          "scatterpolargl": [
           {
            "marker": {
             "colorbar": {
              "outlinewidth": 0,
              "ticks": ""
             }
            },
            "type": "scatterpolargl"
           }
          ],
          "scatterternary": [
           {
            "marker": {
             "colorbar": {
              "outlinewidth": 0,
              "ticks": ""
             }
            },
            "type": "scatterternary"
           }
          ],
          "surface": [
           {
            "colorbar": {
             "outlinewidth": 0,
             "ticks": ""
            },
            "colorscale": [
             [
              0,
              "#0d0887"
             ],
             [
              0.1111111111111111,
              "#46039f"
             ],
             [
              0.2222222222222222,
              "#7201a8"
             ],
             [
              0.3333333333333333,
              "#9c179e"
             ],
             [
              0.4444444444444444,
              "#bd3786"
             ],
             [
              0.5555555555555556,
              "#d8576b"
             ],
             [
              0.6666666666666666,
              "#ed7953"
             ],
             [
              0.7777777777777778,
              "#fb9f3a"
             ],
             [
              0.8888888888888888,
              "#fdca26"
             ],
             [
              1,
              "#f0f921"
             ]
            ],
            "type": "surface"
           }
          ],
          "table": [
           {
            "cells": {
             "fill": {
              "color": "#EBF0F8"
             },
             "line": {
              "color": "white"
             }
            },
            "header": {
             "fill": {
              "color": "#C8D4E3"
             },
             "line": {
              "color": "white"
             }
            },
            "type": "table"
           }
          ]
         },
         "layout": {
          "annotationdefaults": {
           "arrowcolor": "#2a3f5f",
           "arrowhead": 0,
           "arrowwidth": 1
          },
          "autotypenumbers": "strict",
          "coloraxis": {
           "colorbar": {
            "outlinewidth": 0,
            "ticks": ""
           }
          },
          "colorscale": {
           "diverging": [
            [
             0,
             "#8e0152"
            ],
            [
             0.1,
             "#c51b7d"
            ],
            [
             0.2,
             "#de77ae"
            ],
            [
             0.3,
             "#f1b6da"
            ],
            [
             0.4,
             "#fde0ef"
            ],
            [
             0.5,
             "#f7f7f7"
            ],
            [
             0.6,
             "#e6f5d0"
            ],
            [
             0.7,
             "#b8e186"
            ],
            [
             0.8,
             "#7fbc41"
            ],
            [
             0.9,
             "#4d9221"
            ],
            [
             1,
             "#276419"
            ]
           ],
           "sequential": [
            [
             0,
             "#0d0887"
            ],
            [
             0.1111111111111111,
             "#46039f"
            ],
            [
             0.2222222222222222,
             "#7201a8"
            ],
            [
             0.3333333333333333,
             "#9c179e"
            ],
            [
             0.4444444444444444,
             "#bd3786"
            ],
            [
             0.5555555555555556,
             "#d8576b"
            ],
            [
             0.6666666666666666,
             "#ed7953"
            ],
            [
             0.7777777777777778,
             "#fb9f3a"
            ],
            [
             0.8888888888888888,
             "#fdca26"
            ],
            [
             1,
             "#f0f921"
            ]
           ],
           "sequentialminus": [
            [
             0,
             "#0d0887"
            ],
            [
             0.1111111111111111,
             "#46039f"
            ],
            [
             0.2222222222222222,
             "#7201a8"
            ],
            [
             0.3333333333333333,
             "#9c179e"
            ],
            [
             0.4444444444444444,
             "#bd3786"
            ],
            [
             0.5555555555555556,
             "#d8576b"
            ],
            [
             0.6666666666666666,
             "#ed7953"
            ],
            [
             0.7777777777777778,
             "#fb9f3a"
            ],
            [
             0.8888888888888888,
             "#fdca26"
            ],
            [
             1,
             "#f0f921"
            ]
           ]
          },
          "colorway": [
           "#636efa",
           "#EF553B",
           "#00cc96",
           "#ab63fa",
           "#FFA15A",
           "#19d3f3",
           "#FF6692",
           "#B6E880",
           "#FF97FF",
           "#FECB52"
          ],
          "font": {
           "color": "#2a3f5f"
          },
          "geo": {
           "bgcolor": "white",
           "lakecolor": "white",
           "landcolor": "#E5ECF6",
           "showlakes": true,
           "showland": true,
           "subunitcolor": "white"
          },
          "hoverlabel": {
           "align": "left"
          },
          "hovermode": "closest",
          "mapbox": {
           "style": "light"
          },
          "paper_bgcolor": "white",
          "plot_bgcolor": "#E5ECF6",
          "polar": {
           "angularaxis": {
            "gridcolor": "white",
            "linecolor": "white",
            "ticks": ""
           },
           "bgcolor": "#E5ECF6",
           "radialaxis": {
            "gridcolor": "white",
            "linecolor": "white",
            "ticks": ""
           }
          },
          "scene": {
           "xaxis": {
            "backgroundcolor": "#E5ECF6",
            "gridcolor": "white",
            "gridwidth": 2,
            "linecolor": "white",
            "showbackground": true,
            "ticks": "",
            "zerolinecolor": "white"
           },
           "yaxis": {
            "backgroundcolor": "#E5ECF6",
            "gridcolor": "white",
            "gridwidth": 2,
            "linecolor": "white",
            "showbackground": true,
            "ticks": "",
            "zerolinecolor": "white"
           },
           "zaxis": {
            "backgroundcolor": "#E5ECF6",
            "gridcolor": "white",
            "gridwidth": 2,
            "linecolor": "white",
            "showbackground": true,
            "ticks": "",
            "zerolinecolor": "white"
           }
          },
          "shapedefaults": {
           "line": {
            "color": "#2a3f5f"
           }
          },
          "ternary": {
           "aaxis": {
            "gridcolor": "white",
            "linecolor": "white",
            "ticks": ""
           },
           "baxis": {
            "gridcolor": "white",
            "linecolor": "white",
            "ticks": ""
           },
           "bgcolor": "#E5ECF6",
           "caxis": {
            "gridcolor": "white",
            "linecolor": "white",
            "ticks": ""
           }
          },
          "title": {
           "x": 0.05
          },
          "xaxis": {
           "automargin": true,
           "gridcolor": "white",
           "linecolor": "white",
           "ticks": "",
           "title": {
            "standoff": 15
           },
           "zerolinecolor": "white",
           "zerolinewidth": 2
          },
          "yaxis": {
           "automargin": true,
           "gridcolor": "white",
           "linecolor": "white",
           "ticks": "",
           "title": {
            "standoff": 15
           },
           "zerolinecolor": "white",
           "zerolinewidth": 2
          }
         }
        },
        "xaxis": {
         "anchor": "y",
         "domain": [
          0,
          1
         ],
         "title": {
          "text": "Volatilidade"
         }
        },
        "yaxis": {
         "anchor": "x",
         "domain": [
          0,
          1
         ],
         "title": {
          "text": "Retorno"
         }
        }
       }
      },
      "text/html": [
       "<div>                            <div id=\"20387ea5-2a57-4216-afb9-8a79ea98f066\" class=\"plotly-graph-div\" style=\"height:525px; width:100%;\"></div>            <script type=\"text/javascript\">                require([\"plotly\"], function(Plotly) {                    window.PLOTLYENV=window.PLOTLYENV || {};                                    if (document.getElementById(\"20387ea5-2a57-4216-afb9-8a79ea98f066\")) {                    Plotly.newPlot(                        \"20387ea5-2a57-4216-afb9-8a79ea98f066\",                        [{\"hovertemplate\":\"Volatilidade=%{x}<br>Retorno=%{y}<extra></extra>\",\"legendgroup\":\"\",\"marker\":{\"color\":\"#636efa\",\"symbol\":\"circle\"},\"mode\":\"markers\",\"name\":\"\",\"orientation\":\"v\",\"showlegend\":false,\"x\":[0.3257481681595675,0.3246680924151109,0.323689108650393,0.32281213660358293,0.32203800966892154,0.3213674710634792,0.32080117034888983,0.3203396603450227,0.3199833944691149,0.3197327245298102,0.31958789900088436,0.3195490617942871,0.3196162515465764,0.31978940142697887,0.32006833946929525,0.32045278942381555,0.32094237211942284,0.3215366073202952,0.3222349160561512,0.32303662339996336,0.3239409616625386,0.3249470739694641,0.3260540181826444,0.32726077112609414,0.3285662330738033,0.3299692324563572,0.33146853074256083,0.33306282745255755,0.3347507652597941,0.3365309351406037,0.338401881532101,0.34036210746143414,0.34241007961211833,0.3445442332961489,0.3467629773037353,0.34906469860576894,0.35144776688746665,0.35391053889493557,0.3564513625796455,0.3590685810289361,0.3617605361736508,0.36452557226678434,0.36736203912961846,0.3702682951641713,0.37324271013290833,0.3762836677085521,0.3793895677984669,0.3825588286495038,0.3857898887403859,0.38908120846967637,0.39243127164816227,0.3958385868050631,0.39930168831790697,0.40281913737619,0.4063895227890732,0.41001146164738955,0.41368359985016656,0.4174046125056866,0.42117320421688503,0.4249881092605753,0.4288480916696554,0.43275194522705235,0.4366984933797637,0.4406865890809238,0.44471511456736895,0.44878298107974546,0.4528891285317451,0.45703252513462284,0.4612121669827039,0.46542707760518087,0.46967630748908545,0.473958933577932,0.4782740587501534,0.4826208112810982,0.48699834429202227,0.4914058351891869,0.4958424850958812,0.5003075182799096,0.5048001815788206,0.5093197438249218,0.5138654952718893,0.518436747024581,0.5230328304734803,0.5276530967350017,0.5322969160987495,0.5369636774826645,0.5416527878968597,0.5463636719168282,0.5510957711665952,0.5558485438122825,0.5606214640664691,0.565414021703648,0.5702257215870048,0.5750560832066851,0.5799046402296437,0.5847709400611463,0.5896545434179123,0.5945550239128773,0.5994719676515022,0.604404972839528,0.6093536494020557],\"xaxis\":\"x\",\"y\":[-0.09089850552720473,-0.09230837867225,-0.09371825181729507,-0.09512812496234035,-0.09653799810738557,-0.09794787125243085,-0.09935774439747598,-0.10076761754252124,-0.1021774906875664,-0.1035873638326116,-0.10499723697765687,-0.10640711012270186,-0.1078169832677471,-0.10922685641279263,-0.11063672955783795,-0.1120466027028828,-0.11345647584792802,-0.11486634899297334,-0.11627622213801858,-0.11768609528306385,-0.11909596842810882,-0.12050584157315411,-0.12191571471819929,-0.12332558786324463,-0.12473546100828967,-0.12614533415333504,-0.1275552072983803,-0.1289650804434254,-0.13037495358847068,-0.13178482673351577,-0.13319469987856097,-0.13460457302360615,-0.1360144461686513,-0.13742431931369653,-0.13883419245874185,-0.1402440656037871,-0.14165393874883214,-0.14306381189387743,-0.14447368503892274,-0.1458835581839679,-0.14729343132901299,-0.1487033044740583,-0.1501131776191035,-0.1515230507641487,-0.152932923909194,-0.15434279705423917,-0.1557526701992845,-0.1571625433443295,-0.1585724164893747,-0.15998228963442004,-0.1613921627794652,-0.1628020359245104,-0.1642119090695557,-0.16562178221460103,-0.16703165535964598,-0.1684415285046912,-0.16985140164973647,-0.1712612747947816,-0.17267114793982682,-0.17408102108487208,-0.17549089422991734,-0.17690076737496255,-0.17831064052000772,-0.179720513665053,-0.18113038681009808,-0.18254025995514328,-0.18395013310018843,-0.18536000624523363,-0.18676987939027895,-0.18817975253532418,-0.1895896256803695,-0.19099949882541462,-0.19240937197045968,-0.19381924511550508,-0.1952291182605503,-0.19663899140559535,-0.19804886455064044,-0.19945873769568612,-0.200868610840731,-0.2022784839857763,-0.20368835713082148,-0.20509823027586688,-0.20650810342091197,-0.20791797656595729,-0.20932784971100243,-0.21073772285604755,-0.21214759600109284,-0.213557469146138,-0.21496734229118314,-0.21637721543622837,-0.2177870885812735,-0.21919696172631867,-0.22060683487136412,-0.2220167080164093,-0.22342658116145422,-0.22483645430649957,-0.22624632745154483,-0.22765620059659028,-0.2290660737416351,-0.23047594688668066,-0.23188582003172567],\"yaxis\":\"y\",\"type\":\"scatter\"}],                        {\"template\":{\"data\":{\"histogram2dcontour\":[{\"type\":\"histogram2dcontour\",\"colorbar\":{\"outlinewidth\":0,\"ticks\":\"\"},\"colorscale\":[[0.0,\"#0d0887\"],[0.1111111111111111,\"#46039f\"],[0.2222222222222222,\"#7201a8\"],[0.3333333333333333,\"#9c179e\"],[0.4444444444444444,\"#bd3786\"],[0.5555555555555556,\"#d8576b\"],[0.6666666666666666,\"#ed7953\"],[0.7777777777777778,\"#fb9f3a\"],[0.8888888888888888,\"#fdca26\"],[1.0,\"#f0f921\"]]}],\"choropleth\":[{\"type\":\"choropleth\",\"colorbar\":{\"outlinewidth\":0,\"ticks\":\"\"}}],\"histogram2d\":[{\"type\":\"histogram2d\",\"colorbar\":{\"outlinewidth\":0,\"ticks\":\"\"},\"colorscale\":[[0.0,\"#0d0887\"],[0.1111111111111111,\"#46039f\"],[0.2222222222222222,\"#7201a8\"],[0.3333333333333333,\"#9c179e\"],[0.4444444444444444,\"#bd3786\"],[0.5555555555555556,\"#d8576b\"],[0.6666666666666666,\"#ed7953\"],[0.7777777777777778,\"#fb9f3a\"],[0.8888888888888888,\"#fdca26\"],[1.0,\"#f0f921\"]]}],\"heatmap\":[{\"type\":\"heatmap\",\"colorbar\":{\"outlinewidth\":0,\"ticks\":\"\"},\"colorscale\":[[0.0,\"#0d0887\"],[0.1111111111111111,\"#46039f\"],[0.2222222222222222,\"#7201a8\"],[0.3333333333333333,\"#9c179e\"],[0.4444444444444444,\"#bd3786\"],[0.5555555555555556,\"#d8576b\"],[0.6666666666666666,\"#ed7953\"],[0.7777777777777778,\"#fb9f3a\"],[0.8888888888888888,\"#fdca26\"],[1.0,\"#f0f921\"]]}],\"heatmapgl\":[{\"type\":\"heatmapgl\",\"colorbar\":{\"outlinewidth\":0,\"ticks\":\"\"},\"colorscale\":[[0.0,\"#0d0887\"],[0.1111111111111111,\"#46039f\"],[0.2222222222222222,\"#7201a8\"],[0.3333333333333333,\"#9c179e\"],[0.4444444444444444,\"#bd3786\"],[0.5555555555555556,\"#d8576b\"],[0.6666666666666666,\"#ed7953\"],[0.7777777777777778,\"#fb9f3a\"],[0.8888888888888888,\"#fdca26\"],[1.0,\"#f0f921\"]]}],\"contourcarpet\":[{\"type\":\"contourcarpet\",\"colorbar\":{\"outlinewidth\":0,\"ticks\":\"\"}}],\"contour\":[{\"type\":\"contour\",\"colorbar\":{\"outlinewidth\":0,\"ticks\":\"\"},\"colorscale\":[[0.0,\"#0d0887\"],[0.1111111111111111,\"#46039f\"],[0.2222222222222222,\"#7201a8\"],[0.3333333333333333,\"#9c179e\"],[0.4444444444444444,\"#bd3786\"],[0.5555555555555556,\"#d8576b\"],[0.6666666666666666,\"#ed7953\"],[0.7777777777777778,\"#fb9f3a\"],[0.8888888888888888,\"#fdca26\"],[1.0,\"#f0f921\"]]}],\"surface\":[{\"type\":\"surface\",\"colorbar\":{\"outlinewidth\":0,\"ticks\":\"\"},\"colorscale\":[[0.0,\"#0d0887\"],[0.1111111111111111,\"#46039f\"],[0.2222222222222222,\"#7201a8\"],[0.3333333333333333,\"#9c179e\"],[0.4444444444444444,\"#bd3786\"],[0.5555555555555556,\"#d8576b\"],[0.6666666666666666,\"#ed7953\"],[0.7777777777777778,\"#fb9f3a\"],[0.8888888888888888,\"#fdca26\"],[1.0,\"#f0f921\"]]}],\"mesh3d\":[{\"type\":\"mesh3d\",\"colorbar\":{\"outlinewidth\":0,\"ticks\":\"\"}}],\"scatter\":[{\"fillpattern\":{\"fillmode\":\"overlay\",\"size\":10,\"solidity\":0.2},\"type\":\"scatter\"}],\"parcoords\":[{\"type\":\"parcoords\",\"line\":{\"colorbar\":{\"outlinewidth\":0,\"ticks\":\"\"}}}],\"scatterpolargl\":[{\"type\":\"scatterpolargl\",\"marker\":{\"colorbar\":{\"outlinewidth\":0,\"ticks\":\"\"}}}],\"bar\":[{\"error_x\":{\"color\":\"#2a3f5f\"},\"error_y\":{\"color\":\"#2a3f5f\"},\"marker\":{\"line\":{\"color\":\"#E5ECF6\",\"width\":0.5},\"pattern\":{\"fillmode\":\"overlay\",\"size\":10,\"solidity\":0.2}},\"type\":\"bar\"}],\"scattergeo\":[{\"type\":\"scattergeo\",\"marker\":{\"colorbar\":{\"outlinewidth\":0,\"ticks\":\"\"}}}],\"scatterpolar\":[{\"type\":\"scatterpolar\",\"marker\":{\"colorbar\":{\"outlinewidth\":0,\"ticks\":\"\"}}}],\"histogram\":[{\"marker\":{\"pattern\":{\"fillmode\":\"overlay\",\"size\":10,\"solidity\":0.2}},\"type\":\"histogram\"}],\"scattergl\":[{\"type\":\"scattergl\",\"marker\":{\"colorbar\":{\"outlinewidth\":0,\"ticks\":\"\"}}}],\"scatter3d\":[{\"type\":\"scatter3d\",\"line\":{\"colorbar\":{\"outlinewidth\":0,\"ticks\":\"\"}},\"marker\":{\"colorbar\":{\"outlinewidth\":0,\"ticks\":\"\"}}}],\"scattermapbox\":[{\"type\":\"scattermapbox\",\"marker\":{\"colorbar\":{\"outlinewidth\":0,\"ticks\":\"\"}}}],\"scatterternary\":[{\"type\":\"scatterternary\",\"marker\":{\"colorbar\":{\"outlinewidth\":0,\"ticks\":\"\"}}}],\"scattercarpet\":[{\"type\":\"scattercarpet\",\"marker\":{\"colorbar\":{\"outlinewidth\":0,\"ticks\":\"\"}}}],\"carpet\":[{\"aaxis\":{\"endlinecolor\":\"#2a3f5f\",\"gridcolor\":\"white\",\"linecolor\":\"white\",\"minorgridcolor\":\"white\",\"startlinecolor\":\"#2a3f5f\"},\"baxis\":{\"endlinecolor\":\"#2a3f5f\",\"gridcolor\":\"white\",\"linecolor\":\"white\",\"minorgridcolor\":\"white\",\"startlinecolor\":\"#2a3f5f\"},\"type\":\"carpet\"}],\"table\":[{\"cells\":{\"fill\":{\"color\":\"#EBF0F8\"},\"line\":{\"color\":\"white\"}},\"header\":{\"fill\":{\"color\":\"#C8D4E3\"},\"line\":{\"color\":\"white\"}},\"type\":\"table\"}],\"barpolar\":[{\"marker\":{\"line\":{\"color\":\"#E5ECF6\",\"width\":0.5},\"pattern\":{\"fillmode\":\"overlay\",\"size\":10,\"solidity\":0.2}},\"type\":\"barpolar\"}],\"pie\":[{\"automargin\":true,\"type\":\"pie\"}]},\"layout\":{\"autotypenumbers\":\"strict\",\"colorway\":[\"#636efa\",\"#EF553B\",\"#00cc96\",\"#ab63fa\",\"#FFA15A\",\"#19d3f3\",\"#FF6692\",\"#B6E880\",\"#FF97FF\",\"#FECB52\"],\"font\":{\"color\":\"#2a3f5f\"},\"hovermode\":\"closest\",\"hoverlabel\":{\"align\":\"left\"},\"paper_bgcolor\":\"white\",\"plot_bgcolor\":\"#E5ECF6\",\"polar\":{\"bgcolor\":\"#E5ECF6\",\"angularaxis\":{\"gridcolor\":\"white\",\"linecolor\":\"white\",\"ticks\":\"\"},\"radialaxis\":{\"gridcolor\":\"white\",\"linecolor\":\"white\",\"ticks\":\"\"}},\"ternary\":{\"bgcolor\":\"#E5ECF6\",\"aaxis\":{\"gridcolor\":\"white\",\"linecolor\":\"white\",\"ticks\":\"\"},\"baxis\":{\"gridcolor\":\"white\",\"linecolor\":\"white\",\"ticks\":\"\"},\"caxis\":{\"gridcolor\":\"white\",\"linecolor\":\"white\",\"ticks\":\"\"}},\"coloraxis\":{\"colorbar\":{\"outlinewidth\":0,\"ticks\":\"\"}},\"colorscale\":{\"sequential\":[[0.0,\"#0d0887\"],[0.1111111111111111,\"#46039f\"],[0.2222222222222222,\"#7201a8\"],[0.3333333333333333,\"#9c179e\"],[0.4444444444444444,\"#bd3786\"],[0.5555555555555556,\"#d8576b\"],[0.6666666666666666,\"#ed7953\"],[0.7777777777777778,\"#fb9f3a\"],[0.8888888888888888,\"#fdca26\"],[1.0,\"#f0f921\"]],\"sequentialminus\":[[0.0,\"#0d0887\"],[0.1111111111111111,\"#46039f\"],[0.2222222222222222,\"#7201a8\"],[0.3333333333333333,\"#9c179e\"],[0.4444444444444444,\"#bd3786\"],[0.5555555555555556,\"#d8576b\"],[0.6666666666666666,\"#ed7953\"],[0.7777777777777778,\"#fb9f3a\"],[0.8888888888888888,\"#fdca26\"],[1.0,\"#f0f921\"]],\"diverging\":[[0,\"#8e0152\"],[0.1,\"#c51b7d\"],[0.2,\"#de77ae\"],[0.3,\"#f1b6da\"],[0.4,\"#fde0ef\"],[0.5,\"#f7f7f7\"],[0.6,\"#e6f5d0\"],[0.7,\"#b8e186\"],[0.8,\"#7fbc41\"],[0.9,\"#4d9221\"],[1,\"#276419\"]]},\"xaxis\":{\"gridcolor\":\"white\",\"linecolor\":\"white\",\"ticks\":\"\",\"title\":{\"standoff\":15},\"zerolinecolor\":\"white\",\"automargin\":true,\"zerolinewidth\":2},\"yaxis\":{\"gridcolor\":\"white\",\"linecolor\":\"white\",\"ticks\":\"\",\"title\":{\"standoff\":15},\"zerolinecolor\":\"white\",\"automargin\":true,\"zerolinewidth\":2},\"scene\":{\"xaxis\":{\"backgroundcolor\":\"#E5ECF6\",\"gridcolor\":\"white\",\"linecolor\":\"white\",\"showbackground\":true,\"ticks\":\"\",\"zerolinecolor\":\"white\",\"gridwidth\":2},\"yaxis\":{\"backgroundcolor\":\"#E5ECF6\",\"gridcolor\":\"white\",\"linecolor\":\"white\",\"showbackground\":true,\"ticks\":\"\",\"zerolinecolor\":\"white\",\"gridwidth\":2},\"zaxis\":{\"backgroundcolor\":\"#E5ECF6\",\"gridcolor\":\"white\",\"linecolor\":\"white\",\"showbackground\":true,\"ticks\":\"\",\"zerolinecolor\":\"white\",\"gridwidth\":2}},\"shapedefaults\":{\"line\":{\"color\":\"#2a3f5f\"}},\"annotationdefaults\":{\"arrowcolor\":\"#2a3f5f\",\"arrowhead\":0,\"arrowwidth\":1},\"geo\":{\"bgcolor\":\"white\",\"landcolor\":\"#E5ECF6\",\"subunitcolor\":\"white\",\"showland\":true,\"showlakes\":true,\"lakecolor\":\"white\"},\"title\":{\"x\":0.05},\"mapbox\":{\"style\":\"light\"}}},\"xaxis\":{\"anchor\":\"y\",\"domain\":[0.0,1.0],\"title\":{\"text\":\"Volatilidade\"}},\"yaxis\":{\"anchor\":\"x\",\"domain\":[0.0,1.0],\"title\":{\"text\":\"Retorno\"}},\"legend\":{\"tracegroupgap\":0},\"margin\":{\"t\":60}},                        {\"responsive\": true}                    ).then(function(){\n",
       "                            \n",
       "var gd = document.getElementById('20387ea5-2a57-4216-afb9-8a79ea98f066');\n",
       "var x = new MutationObserver(function (mutations, observer) {{\n",
       "        var display = window.getComputedStyle(gd).display;\n",
       "        if (!display || display === 'none') {{\n",
       "            console.log([gd, 'removed!']);\n",
       "            Plotly.purge(gd);\n",
       "            observer.disconnect();\n",
       "        }}\n",
       "}});\n",
       "\n",
       "// Listen for the removal of the full notebook cells\n",
       "var notebookContainer = gd.closest('#notebook-container');\n",
       "if (notebookContainer) {{\n",
       "    x.observe(notebookContainer, {childList: true});\n",
       "}}\n",
       "\n",
       "// Listen for the clearing of the current output cell\n",
       "var outputEl = gd.closest('.output');\n",
       "if (outputEl) {{\n",
       "    x.observe(outputEl, {childList: true});\n",
       "}}\n",
       "\n",
       "                        })                };                });            </script>        </div>"
      ]
     },
     "metadata": {},
     "output_type": "display_data"
    },
    {
     "name": "stdout",
     "output_type": "stream",
     "text": [
      "A melhor alocação de carteira foi 11.0% em banco PAN e \n",
      "89.0% Bradesco\n"
     ]
    }
   ],
   "source": [
    "fig = px.scatter(carteiras, x = 'Volatilidade', y = 'Retorno')\n",
    "fig.show()\n",
    "\n",
    "print(f'''A melhor alocação de carteira foi {menor_risco * 100}% em banco PAN e \n",
    "{(1-menor_risco) * 100}% Bradesco''')"
   ]
  },
  {
   "cell_type": "code",
   "execution_count": null,
   "id": "0e8f8ca1",
   "metadata": {},
   "outputs": [],
   "source": []
  }
 ],
 "metadata": {
  "kernelspec": {
   "display_name": "Python 3 (ipykernel)",
   "language": "python",
   "name": "python3"
  },
  "language_info": {
   "codemirror_mode": {
    "name": "ipython",
    "version": 3
   },
   "file_extension": ".py",
   "mimetype": "text/x-python",
   "name": "python",
   "nbconvert_exporter": "python",
   "pygments_lexer": "ipython3",
   "version": "3.9.12"
  }
 },
 "nbformat": 4,
 "nbformat_minor": 5
}
